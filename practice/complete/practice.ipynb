{
 "cells": [
  {
   "cell_type": "code",
   "execution_count": 1,
   "metadata": {},
   "outputs": [],
   "source": [
    "############## PLEASE RUN THIS CELL FIRST! ###################\n",
    "\n",
    "# import everything and define a test runner function\n",
    "from importlib import reload\n",
    "from helper import run\n",
    "import helper"
   ]
  },
  {
   "cell_type": "markdown",
   "metadata": {},
   "source": [
    "### This is a Jupyter Notebook\n",
    "You can write Python code and it will execute. You can write the typical 'hello world' program like this:\n",
    "\n",
    "```python\n",
    "print('hello world')\n",
    "```\n",
    "\n",
    "You can execute by pressing shift-enter. Try it! You can also click the Run button in the toolbar.\n"
   ]
  },
  {
   "cell_type": "code",
   "execution_count": 2,
   "metadata": {},
   "outputs": [
    {
     "name": "stdout",
     "output_type": "stream",
     "text": [
      "hello world\n"
     ]
    }
   ],
   "source": [
    "print('hello world')"
   ]
  },
  {
   "cell_type": "code",
   "execution_count": 3,
   "metadata": {},
   "outputs": [
    {
     "name": "stdout",
     "output_type": "stream",
     "text": [
      "False\n",
      "True\n",
      "True\n"
     ]
    }
   ],
   "source": [
    "s = 'hello world'\n",
    "b = b'hello world'\n",
    "print(s==b) # False\n",
    "# You convert from string to bytes this way:\n",
    "hello_world_bytes = s.encode('ascii')\n",
    "print(hello_world_bytes == b) # True\n",
    "# You convert from bytes to string this way:\n",
    "hello_world_string = b.decode('ascii')\n",
    "print(hello_world_string == s) # True"
   ]
  },
  {
   "cell_type": "markdown",
   "metadata": {},
   "source": [
    "### Exercise 1\n",
    "You can do a lot more than just print \"hello world\"\n",
    "\n",
    "This is a fully functioning Python3 interpreter so you can write functions and objects like in the next box.\n",
    "\n",
    "Try printing the 21st Fibonacci number below instead of the 11th. You can add caching if you want to practice coding in Python.\n"
   ]
  },
  {
   "cell_type": "code",
   "execution_count": 4,
   "metadata": {},
   "outputs": [
    {
     "name": "stdout",
     "output_type": "stream",
     "text": [
      "10946\n"
     ]
    }
   ],
   "source": [
    "# Exercise 1\n",
    "\n",
    "def fib(n):\n",
    "    if n in (0,1):\n",
    "        return 1\n",
    "    else:\n",
    "        return fib(n-1) + fib(n-2)\n",
    "print(fib(20))"
   ]
  },
  {
   "cell_type": "markdown",
   "metadata": {},
   "source": [
    "### A few things you should remember in Python 3\n",
    "\n",
    "Strings and bytes are now different\n",
    "\n",
    "```python\n",
    "s = 'hello world'\n",
    "b = b'hello world'\n",
    "```\n",
    "\n",
    "These may look the same but the 'b' prefix means that the variable `b` is bytes whereas the variable `s` is a string. Basically, the on-disk characters on the system are bytes and the actual symbols in unicode are strings. A good explanation of the difference is [here](http://www.diveintopython3.net/strings.html).\n"
   ]
  },
  {
   "cell_type": "code",
   "execution_count": 5,
   "metadata": {},
   "outputs": [
    {
     "name": "stdout",
     "output_type": "stream",
     "text": [
      "False\n",
      "True\n",
      "True\n"
     ]
    }
   ],
   "source": [
    "s = 'hello world'\n",
    "b = b'hello world'\n",
    "print(s==b) # False\n",
    "# You convert from string to bytes this way:\n",
    "hello_world_bytes = s.encode('ascii')\n",
    "print(hello_world_bytes == b) # True\n",
    "# You convert from bytes to string this way:\n",
    "hello_world_string = b.decode('ascii')\n",
    "print(hello_world_string == s) # True"
   ]
  },
  {
   "cell_type": "markdown",
   "metadata": {},
   "source": [
    "### Imports\n",
    "\n",
    "You already have unit tests that are written for you.\n",
    "Your task is to make them pass.\n",
    "We can import various modules to make our experience using Jupyter more pleasant.\n",
    "This way, making everything work will be a lot easier.\n"
   ]
  },
  {
   "cell_type": "code",
   "execution_count": 6,
   "metadata": {},
   "outputs": [],
   "source": [
    "# this is how you import an entire module\n",
    "import helper\n",
    "# this is how you import a particular function, class or constant\n",
    "from helper import little_endian_to_int\n",
    "# used in the next exercise\n",
    "some_long_variable_name = 'something'"
   ]
  },
  {
   "cell_type": "markdown",
   "metadata": {},
   "source": [
    "### Exercise 2\n",
    "#### Jupyter Tips\n",
    "\n",
    "The two most useful commands are tab and shift-tab\n",
    "\n",
    "Tab lets you tab-complete. Try pressing tab after the `some` below. This will complete to the variable name that's there from the last cell.\n",
    "\n",
    "Shift-Tab gives you a function/method signature. Try pressing shift-tab after the `little_endian_to_int` below. That's also there from the last cell.\n"
   ]
  },
  {
   "cell_type": "code",
   "execution_count": 7,
   "metadata": {},
   "outputs": [
    {
     "data": {
      "text/plain": [
       "0"
      ]
     },
     "execution_count": 7,
     "metadata": {},
     "output_type": "execute_result"
    }
   ],
   "source": [
    "# Exercise 2\n",
    "\n",
    "some_long_variable_name\n",
    "little_endian_to_int(b'\\x00')"
   ]
  },
  {
   "cell_type": "markdown",
   "metadata": {},
   "source": [
    "### Exercise 3\n",
    "\n",
    "\n",
    "Open [helper.py](/edit/session0/helper.py) and implement the `bytes_to_str` and `str_to_bytes` functions. Once you're done editing, run the cell below.\n",
    "\n",
    "\n",
    "#### Make [this test](/edit/practice/helper.py) pass: `helper.py:HelperTest:test_bytes`"
   ]
  },
  {
   "cell_type": "code",
   "execution_count": 8,
   "metadata": {},
   "outputs": [
    {
     "name": "stderr",
     "output_type": "stream",
     "text": [
      ".\n",
      "----------------------------------------------------------------------\n",
      "Ran 1 test in 0.001s\n",
      "\n",
      "OK\n"
     ]
    }
   ],
   "source": [
    "# Exercise 3\n",
    "\n",
    "reload(helper)\n",
    "run(helper.HelperTest('test_bytes'))"
   ]
  },
  {
   "cell_type": "markdown",
   "metadata": {},
   "source": [
    "### Getting Help\n",
    "\n",
    "If you can't get this, there's a [complete directory](/tree/session0/complete) that has the [helper.py file](/edit/session0/complete/helper.py) and the [session0.ipynb file](/notebooks/session0/complete/session0.ipynb) which you can use to get the answers.\n"
   ]
  },
  {
   "cell_type": "markdown",
   "metadata": {},
   "source": [
    "### Useful Python 3 Idioms\n",
    "\n",
    "You can reverse a list by using `[::-1]`:\n",
    "\n",
    "```python\n",
    "a = [1, 2, 3, 4, 5]\n",
    "print(a[::-1]) # [5, 4, 3, 2, 1]\n",
    "```\n",
    "\n",
    "Also works on both strings and bytes:\n",
    "\n",
    "```python\n",
    "s = 'hello world'\n",
    "print(s[::-1]) # 'dlrow olleh'\n",
    "b = b'hello world'\n",
    "print(b[::-1]) # b'dlrow olleh'\n",
    "```\n",
    "\n",
    "Indexing bytes will get you the numerical value:\n",
    "\n",
    "```python\n",
    "print(b'&'[0]) # 38 since & is charcter #38\n",
    "```\n",
    "\n",
    "You can do the reverse by using bytes:\n",
    "\n",
    "```python\n",
    "print(bytes([38])) # b'&'\n",
    "```\n"
   ]
  },
  {
   "cell_type": "code",
   "execution_count": 9,
   "metadata": {},
   "outputs": [
    {
     "name": "stdout",
     "output_type": "stream",
     "text": [
      "[5, 4, 3, 2, 1]\n",
      "dlrow olleh\n",
      "b'dlrow olleh'\n",
      "38\n",
      "b'&'\n"
     ]
    }
   ],
   "source": [
    "a = [1, 2, 3, 4, 5]\n",
    "print(a[::-1]) # [5, 4, 3, 2, 1]\n",
    "s = 'hello world'\n",
    "print(s[::-1]) # 'dlrow olleh'\n",
    "b = b'hello world'\n",
    "print(b[::-1]) # b'dlrow olleh'\n",
    "print(b'&'[0]) # 38 since & charcter #38\n",
    "print(bytes([38])) # b'&'"
   ]
  },
  {
   "cell_type": "markdown",
   "metadata": {},
   "source": [
    "### Python Tricks\n",
    "\n",
    "Here is how we convert binary to/from hex:\n"
   ]
  },
  {
   "cell_type": "code",
   "execution_count": 10,
   "metadata": {},
   "outputs": [
    {
     "name": "stdout",
     "output_type": "stream",
     "text": [
      "68656c6c6f20776f726c64\n",
      "b'hello world'\n"
     ]
    }
   ],
   "source": [
    "print(b'hello world'.hex())\n",
    "print(bytes.fromhex('68656c6c6f20776f726c64'))"
   ]
  },
  {
   "cell_type": "markdown",
   "metadata": {},
   "source": [
    "### Exercise 4\n",
    "Reverse this hex dump: `b010a49c82b4bc84cc1dfd6e09b2b8114d016041efaf591eca88959e327dd29a`\n",
    "\n",
    "Hint: you'll want to turn this into binary data, reverse and turn it into hex again\n"
   ]
  },
  {
   "cell_type": "code",
   "execution_count": 11,
   "metadata": {},
   "outputs": [
    {
     "name": "stdout",
     "output_type": "stream",
     "text": [
      "9ad27d329e9588ca1e59afef4160014d11b8b2096efd1dcc84bcb4829ca410b0\n"
     ]
    }
   ],
   "source": [
    "# Exercise 4\n",
    "\n",
    "h = 'b010a49c82b4bc84cc1dfd6e09b2b8114d016041efaf591eca88959e327dd29a'\n",
    "# convert to binary (bytes.fromhex)\n",
    "b = bytes.fromhex(h)\n",
    "# reverse ([::-1])\n",
    "b_rev = b[::-1]\n",
    "# convert to hex()\n",
    "h_rev = b_rev.hex()\n",
    "# print the result\n",
    "print(h_rev)"
   ]
  },
  {
   "cell_type": "markdown",
   "metadata": {},
   "source": [
    "### Modular Arithmetic\n",
    "\n",
    "If you don't remember Modular Arithmetic, it's this function on python\n",
    "\n",
    "```python\n",
    "39 % 12\n",
    "```\n",
    "\n",
    "The result is 3 because that is the remainder after division (39 / 12 == 3 + 3/12).\n",
    "\n",
    "Some people like to call it \"wrap-around\" math. If it helps, think of modular arithmetic like a clock:\n",
    "\n",
    "![clock](http://latex.artofproblemsolving.com/f/4/d/f4daa2601de14fddf3d8441e16cc322a25e85354.png)\n",
    "\n",
    "Think of taking the modulo as asking the question \"what hour will it be 39 hours from now?\"\n",
    "\n",
    "If you're still confused, please take a look at [this](https://www.khanacademy.org/computing/computer-science/cryptography/modarithmetic/a/what-is-modular-arithmetic) article.\n"
   ]
  },
  {
   "cell_type": "code",
   "execution_count": 12,
   "metadata": {},
   "outputs": [
    {
     "name": "stdout",
     "output_type": "stream",
     "text": [
      "3\n"
     ]
    }
   ],
   "source": [
    "print(39 % 12)"
   ]
  },
  {
   "cell_type": "markdown",
   "metadata": {},
   "source": [
    "### Exercise 5\n",
    "\n",
    "Find the modulo 19 of these numbers:\n",
    "\n",
    "* 99\n",
    "* \\\\(456 \\cdot 444\\\\)\n",
    "* \\\\(9^{77}\\\\)\n",
    "\n",
    "(note python uses ** to do exponentiation)\n"
   ]
  },
  {
   "cell_type": "code",
   "execution_count": 13,
   "metadata": {},
   "outputs": [
    {
     "name": "stdout",
     "output_type": "stream",
     "text": [
      "4\n",
      "0\n",
      "16\n"
     ]
    }
   ],
   "source": [
    "# Exercise 5\n",
    "\n",
    "prime = 19\n",
    "print(99 % prime)\n",
    "print(456*444 % prime)\n",
    "print(9**77 % prime)"
   ]
  },
  {
   "cell_type": "markdown",
   "metadata": {},
   "source": [
    "### Converting from bytes to int and back\n",
    "\n",
    "Converting from bytes to integer requires learning about Big and Little Endian encoding. Essentially any number greater than 255 can be encoded in two ways, with the \"Big End\" going first or the \"Little End\" going first.\n",
    "\n",
    "Normal human reading is from the \"Big End\". For example 123 is read as 100 + 20 + 3. Some computer systems encode integers with the \"Little End\" first.\n",
    "\n",
    "A number like 500 is encoded this way in Big Endian:\n",
    "\n",
    "0x01f4 (256 + 244)\n",
    "\n",
    "But this way in Little Endian:\n",
    "\n",
    "0xf401 (244 + 256)\n",
    "\n",
    "In Python we can convert an integer to big or little endian using a built-in method:\n",
    "\n",
    "```python\n",
    "n = 1234567890\n",
    "big_endian = n.to_bytes(4, 'big')  # b'\\x49\\x96\\x02\\xd2'\n",
    "little_endian = n.to_bytes(4, 'little')  # b'\\xd2\\x02\\x96\\x49'\n",
    "```\n",
    "\n",
    "We can also convert from bytes to an integer this way:\n",
    "\n",
    "```python\n",
    "big_endian = b'\\x49\\x96\\x02\\xd2'\n",
    "n = int.from_bytes(big_endian, 'big')  # 1234567890\n",
    "little_endian = b'\\xd2\\x02\\x96\\x49'\n",
    "n = int.from_bytes(little_endian, 'little')  # 1234567890\n",
    "```\n",
    "\n"
   ]
  },
  {
   "cell_type": "code",
   "execution_count": 14,
   "metadata": {},
   "outputs": [
    {
     "name": "stdout",
     "output_type": "stream",
     "text": [
      "499602d2\n",
      "d2029649\n",
      "1234567890\n",
      "1234567890\n"
     ]
    }
   ],
   "source": [
    "n = 1234567890\n",
    "big_endian = n.to_bytes(4, 'big')\n",
    "little_endian = n.to_bytes(4, 'little')\n",
    "print(big_endian.hex())\n",
    "print(little_endian.hex())\n",
    "print(int.from_bytes(big_endian, 'big'))\n",
    "print(int.from_bytes(little_endian, 'little'))"
   ]
  },
  {
   "cell_type": "markdown",
   "metadata": {},
   "source": [
    "### Exercise 6\n",
    "Convert the following:\n",
    "\n",
    "* 8675309 to 8 bytes in big endian\n",
    "* interpret ```b'\\x11\\x22\\x33\\x44\\x55'``` as a little endian integer\n"
   ]
  },
  {
   "cell_type": "code",
   "execution_count": 15,
   "metadata": {},
   "outputs": [
    {
     "name": "stdout",
     "output_type": "stream",
     "text": [
      "b'\\x00\\x00\\x00\\x00\\x00\\x84_\\xed'\n",
      "366216421905\n"
     ]
    }
   ],
   "source": [
    "# Exercise 6\n",
    "\n",
    "n = 8675309\n",
    "print(n.to_bytes(8, 'big'))\n",
    "little_endian = b'\\x11\\x22\\x33\\x44\\x55'\n",
    "print(int.from_bytes(little_endian, 'little'))"
   ]
  },
  {
   "cell_type": "markdown",
   "metadata": {},
   "source": [
    "### Exercise 7\n",
    "\n",
    "\n",
    "We'll want to convert from little-endian bytes to an integer often, so write a function that will do this.\n",
    "\n",
    "\n",
    "#### Make [this test](/edit/practice/helper.py) pass: `helper.py:HelperTest:test_little_endian_to_int`"
   ]
  },
  {
   "cell_type": "code",
   "execution_count": 16,
   "metadata": {},
   "outputs": [
    {
     "name": "stderr",
     "output_type": "stream",
     "text": [
      ".\n",
      "----------------------------------------------------------------------\n",
      "Ran 1 test in 0.001s\n",
      "\n",
      "OK\n"
     ]
    }
   ],
   "source": [
    "# Exercise 7\n",
    "\n",
    "reload(helper)\n",
    "run(helper.HelperTest('test_little_endian_to_int'))"
   ]
  },
  {
   "cell_type": "markdown",
   "metadata": {},
   "source": [
    "### Exercise 8\n",
    "\n",
    "\n",
    "Similarly, we'll want to do the inverse operation, so write a function that will convert an integer to little-endian bytes given the number and the number of bytes it should take up.\n",
    "\n",
    "\n",
    "#### Make [this test](/edit/practice/helper.py) pass: `helper.py:HelperTest:test_int_to_little_endian`"
   ]
  },
  {
   "cell_type": "code",
   "execution_count": 17,
   "metadata": {},
   "outputs": [
    {
     "name": "stderr",
     "output_type": "stream",
     "text": [
      ".\n",
      "----------------------------------------------------------------------\n",
      "Ran 1 test in 0.001s\n",
      "\n",
      "OK\n"
     ]
    }
   ],
   "source": [
    "# Exercise 8\n",
    "\n",
    "reload(helper)\n",
    "run(helper.HelperTest('test_int_to_little_endian'))"
   ]
  }
 ],
 "metadata": {
  "kernelspec": {
   "display_name": "Python 3",
   "language": "python",
   "name": "python3"
  },
  "language_info": {
   "codemirror_mode": {
    "name": "ipython",
    "version": 3
   },
   "file_extension": ".py",
   "mimetype": "text/x-python",
   "name": "python",
   "nbconvert_exporter": "python",
   "pygments_lexer": "ipython3",
   "version": "3.6.7"
  }
 },
 "nbformat": 4,
 "nbformat_minor": 2
}
