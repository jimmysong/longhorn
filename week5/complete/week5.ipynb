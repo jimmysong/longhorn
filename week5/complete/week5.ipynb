{
 "cells": [
  {
   "cell_type": "code",
   "execution_count": 1,
   "metadata": {},
   "outputs": [],
   "source": [
    "############## PLEASE RUN THIS CELL FIRST! ###################\n",
    "\n",
    "# import everything and define a test runner function\n",
    "from importlib import reload\n",
    "from helper import run\n",
    "import block, op, helper, script, tx"
   ]
  },
  {
   "cell_type": "code",
   "execution_count": 2,
   "metadata": {},
   "outputs": [],
   "source": [
    "# op_checkmultisig\n",
    "def op_checkmultisig(stack, z):\n",
    "    if len(stack) < 1:\n",
    "        return False\n",
    "    n = decode_num(stack.pop())\n",
    "    if len(stack) < n + 1:\n",
    "        return False\n",
    "    sec_pubkeys = []\n",
    "    for _ in range(n):\n",
    "        sec_pubkeys.append(stack.pop())\n",
    "    m = decode_num(stack.pop())\n",
    "    if len(stack) < m + 1:\n",
    "        return False\n",
    "    der_signatures = []\n",
    "    for _ in range(m):\n",
    "        # signature is assumed to be using SIGHASH_ALL\n",
    "        der_signatures.append(stack.pop()[:-1])\n",
    "    # OP_CHECKMULTISIG bug\n",
    "    stack.pop()\n",
    "    try:\n",
    "        raise NotImplementedError\n",
    "    except (ValueError, SyntaxError):\n",
    "        return False\n",
    "    return True"
   ]
  },
  {
   "cell_type": "markdown",
   "metadata": {},
   "source": [
    "### Exercise 1\n",
    "\n",
    "\n",
    "\n",
    "\n",
    "#### Make [this test](/edit/week5/op.py) pass: `op.py:OpTest:test_op_checkmultisig`"
   ]
  },
  {
   "cell_type": "code",
   "execution_count": 3,
   "metadata": {},
   "outputs": [
    {
     "name": "stderr",
     "output_type": "stream",
     "text": [
      ".\n",
      "----------------------------------------------------------------------\n",
      "Ran 1 test in 0.201s\n",
      "\n",
      "OK\n"
     ]
    }
   ],
   "source": [
    "# Exercise 1\n",
    "\n",
    "reload(op)\n",
    "run(op.OpTest('test_op_checkmultisig'))"
   ]
  },
  {
   "cell_type": "markdown",
   "metadata": {},
   "source": [
    "### Exercise 2\n",
    "Find the hash160 of the RedeemScript\n",
    "```\n",
    "5221022626e955ea6ea6d98850c994f9107b036b1334f18ca8830bfff1295d21cfdb702103b287eaf122eea69030a0e9feed096bed8045c8b98bec453e1ffac7fbdbd4bb7152ae\n",
    "```\n"
   ]
  },
  {
   "cell_type": "code",
   "execution_count": 4,
   "metadata": {},
   "outputs": [
    {
     "name": "stdout",
     "output_type": "stream",
     "text": [
      "74d691da1574e6b3c192ecfb52cc8984ee7b6c56\n"
     ]
    }
   ],
   "source": [
    "# Exercise 2\n",
    "\n",
    "from helper import hash160\n",
    "hex_redeem_script = '5221022626e955ea6ea6d98850c994f9107b036b1334f18ca8830bfff1295d21cfdb702103b287eaf122eea69030a0e9feed096bed8045c8b98bec453e1ffac7fbdbd4bb7152ae'\n",
    "# bytes.fromhex script\n",
    "redeem_script = bytes.fromhex(hex_redeem_script)\n",
    "# hash160 result\n",
    "h160 = hash160(redeem_script)\n",
    "# hex() to display\n",
    "print(h160.hex())"
   ]
  },
  {
   "cell_type": "code",
   "execution_count": 5,
   "metadata": {},
   "outputs": [
    {
     "name": "stdout",
     "output_type": "stream",
     "text": [
      "3CLoMMyuoDQTPRD3XYZtCvgvkadrAdvdXh\n"
     ]
    }
   ],
   "source": [
    "# P2SH address construction example\n",
    "from helper import encode_base58_checksum\n",
    "print(encode_base58_checksum(b'\\x05'+bytes.fromhex('74d691da1574e6b3c192ecfb52cc8984ee7b6c56')))"
   ]
  },
  {
   "cell_type": "markdown",
   "metadata": {},
   "source": [
    "### Exercise 3\n",
    "\n",
    "\n",
    "\n",
    "\n",
    "#### Make [this test](/edit/week5/helper.py) pass: `helper.py:HelperTest:test_p2pkh_address`"
   ]
  },
  {
   "cell_type": "code",
   "execution_count": 6,
   "metadata": {},
   "outputs": [
    {
     "name": "stderr",
     "output_type": "stream",
     "text": [
      ".\n",
      "----------------------------------------------------------------------\n",
      "Ran 1 test in 0.001s\n",
      "\n",
      "OK\n"
     ]
    }
   ],
   "source": [
    "# Exercise 3\n",
    "\n",
    "reload(helper)\n",
    "run(helper.HelperTest('test_p2pkh_address'))"
   ]
  },
  {
   "cell_type": "markdown",
   "metadata": {},
   "source": [
    "### Exercise 4\n",
    "\n",
    "\n",
    "\n",
    "\n",
    "#### Make [this test](/edit/week5/helper.py) pass: `helper.py:HelperTest:test_p2sh_address`"
   ]
  },
  {
   "cell_type": "code",
   "execution_count": 7,
   "metadata": {},
   "outputs": [
    {
     "name": "stderr",
     "output_type": "stream",
     "text": [
      ".\n",
      "----------------------------------------------------------------------\n",
      "Ran 1 test in 0.001s\n",
      "\n",
      "OK\n"
     ]
    }
   ],
   "source": [
    "# Exercise 4\n",
    "\n",
    "reload(helper)\n",
    "run(helper.HelperTest('test_p2sh_address'))"
   ]
  },
  {
   "cell_type": "markdown",
   "metadata": {},
   "source": [
    "### Exercise 5\n",
    "\n",
    "\n",
    "\n",
    "\n",
    "#### Make [this test](/edit/week5/script.py) pass: `script.py:ScriptTest:test_address`"
   ]
  },
  {
   "cell_type": "code",
   "execution_count": 8,
   "metadata": {},
   "outputs": [
    {
     "name": "stderr",
     "output_type": "stream",
     "text": [
      ".\n",
      "----------------------------------------------------------------------\n",
      "Ran 1 test in 0.001s\n",
      "\n",
      "OK\n"
     ]
    }
   ],
   "source": [
    "# Exercise 5\n",
    "\n",
    "reload(script)\n",
    "run(script.ScriptTest('test_address'))"
   ]
  },
  {
   "cell_type": "code",
   "execution_count": 9,
   "metadata": {},
   "outputs": [
    {
     "name": "stdout",
     "output_type": "stream",
     "text": [
      "0xe71bfa115715d6fd33796948126f40a8cdd39f187e4afb03896795189fe1423c\n"
     ]
    }
   ],
   "source": [
    "# z for p2sh example\n",
    "from helper import hash256\n",
    "h256 = hash256(bytes.fromhex('0100000001868278ed6ddfb6c1ed3ad5f8181eb0c7a385aa0836f01d5e4789e6bd304d87221a000000475221022626e955ea6ea6d98850c994f9107b036b1334f18ca8830bfff1295d21cfdb702103b287eaf122eea69030a0e9feed096bed8045c8b98bec453e1ffac7fbdbd4bb7152aeffffffff04d3b11400000000001976a914904a49878c0adfc3aa05de7afad2cc15f483a56a88ac7f400900000000001976a914418327e3f3dda4cf5b9089325a4b95abdfa0334088ac722c0c00000000001976a914ba35042cfe9fc66fd35ac2224eebdafd1028ad2788acdc4ace020000000017a91474d691da1574e6b3c192ecfb52cc8984ee7b6c56870000000001000000'))\n",
    "z = int.from_bytes(h256, 'big')\n",
    "print(hex(z))"
   ]
  },
  {
   "cell_type": "code",
   "execution_count": 10,
   "metadata": {},
   "outputs": [
    {
     "name": "stdout",
     "output_type": "stream",
     "text": [
      "True\n"
     ]
    }
   ],
   "source": [
    "# p2sh verification example\n",
    "from ecc import S256Point, Signature\n",
    "from helper import hash256\n",
    "h256 = hash256(bytes.fromhex('0100000001868278ed6ddfb6c1ed3ad5f8181eb0c7a385aa0836f01d5e4789e6bd304d87221a000000475221022626e955ea6ea6d98850c994f9107b036b1334f18ca8830bfff1295d21cfdb702103b287eaf122eea69030a0e9feed096bed8045c8b98bec453e1ffac7fbdbd4bb7152aeffffffff04d3b11400000000001976a914904a49878c0adfc3aa05de7afad2cc15f483a56a88ac7f400900000000001976a914418327e3f3dda4cf5b9089325a4b95abdfa0334088ac722c0c00000000001976a914ba35042cfe9fc66fd35ac2224eebdafd1028ad2788acdc4ace020000000017a91474d691da1574e6b3c192ecfb52cc8984ee7b6c56870000000001000000'))\n",
    "z = int.from_bytes(h256, 'big')\n",
    "point = S256Point.parse(bytes.fromhex('022626e955ea6ea6d98850c994f9107b036b1334f18ca8830bfff1295d21cfdb70'))\n",
    "sig = Signature.parse(bytes.fromhex('3045022100dc92655fe37036f47756db8102e0d7d5e28b3beb83a8fef4f5dc0559bddfb94e02205a36d4e4e6c7fcd16658c50783e00c341609977aed3ad00937bf4ee942a89937'))\n",
    "print(point.verify(z, sig))"
   ]
  },
  {
   "cell_type": "markdown",
   "metadata": {},
   "source": [
    "### Exercise 6\n",
    "Validate the second signature of the first input\n",
    "\n",
    "```\n",
    "0100000001868278ed6ddfb6c1ed3ad5f8181eb0c7a385aa0836f01d5e4789e6bd304d87221a000000db00483045022100dc92655fe37036f47756db8102e0d7d5e28b3beb83a8fef4f5dc0559bddfb94e02205a36d4e4e6c7fcd16658c50783e00c341609977aed3ad00937bf4ee942a8993701483045022100da6bee3c93766232079a01639d07fa869598749729ae323eab8eef53577d611b02207bef15429dcadce2121ea07f233115c6f09034c0be68db99980b9a6c5e75402201475221022626e955ea6ea6d98850c994f9107b036b1334f18ca8830bfff1295d21cfdb702103b287eaf122eea69030a0e9feed096bed8045c8b98bec453e1ffac7fbdbd4bb7152aeffffffff04d3b11400000000001976a914904a49878c0adfc3aa05de7afad2cc15f483a56a88ac7f400900000000001976a914418327e3f3dda4cf5b9089325a4b95abdfa0334088ac722c0c00000000001976a914ba35042cfe9fc66fd35ac2224eebdafd1028ad2788acdc4ace020000000017a91474d691da1574e6b3c192ecfb52cc8984ee7b6c568700000000\n",
    "```\n",
    "\n",
    "The sec pubkey of the second signature is:\n",
    "```\n",
    "03b287eaf122eea69030a0e9feed096bed8045c8b98bec453e1ffac7fbdbd4bb71\n",
    "```\n",
    "\n",
    "The der signature of the second signature is:\n",
    "```\n",
    "3045022100da6bee3c93766232079a01639d07fa869598749729ae323eab8eef53577d611b02207bef15429dcadce2121ea07f233115c6f09034c0be68db99980b9a6c5e75402201475221022\n",
    "```\n",
    "\n",
    "The redeemScript is:\n",
    "```\n",
    "475221022626e955ea6ea6d98850c994f9107b036b1334f18ca8830bfff1295d21cfdb702103b287eaf122eea69030a0e9feed096bed8045c8b98bec453e1ffac7fbdbd4bb7152ae\n",
    "```\n"
   ]
  },
  {
   "cell_type": "code",
   "execution_count": 11,
   "metadata": {},
   "outputs": [
    {
     "name": "stdout",
     "output_type": "stream",
     "text": [
      "True\n"
     ]
    }
   ],
   "source": [
    "# Exercise 6\n",
    "\n",
    "from io import BytesIO\n",
    "from ecc import S256Point, Signature\n",
    "from helper import int_to_little_endian, SIGHASH_ALL\n",
    "from script import Script\n",
    "from tx import Tx\n",
    "hex_sec = '03b287eaf122eea69030a0e9feed096bed8045c8b98bec453e1ffac7fbdbd4bb71'\n",
    "hex_der = '3045022100da6bee3c93766232079a01639d07fa869598749729ae323eab8eef53577d611b02207bef15429dcadce2121ea07f233115c6f09034c0be68db99980b9a6c5e754022'\n",
    "hex_redeem_script = '475221022626e955ea6ea6d98850c994f9107b036b1334f18ca8830bfff1295d21cfdb702103b287eaf122eea69030a0e9feed096bed8045c8b98bec453e1ffac7fbdbd4bb7152ae'\n",
    "sec = bytes.fromhex(hex_sec)\n",
    "der = bytes.fromhex(hex_der)\n",
    "redeem_script_stream = BytesIO(bytes.fromhex(hex_redeem_script))\n",
    "hex_tx = '0100000001868278ed6ddfb6c1ed3ad5f8181eb0c7a385aa0836f01d5e4789e6bd304d87221a000000db00483045022100dc92655fe37036f47756db8102e0d7d5e28b3beb83a8fef4f5dc0559bddfb94e02205a36d4e4e6c7fcd16658c50783e00c341609977aed3ad00937bf4ee942a8993701483045022100da6bee3c93766232079a01639d07fa869598749729ae323eab8eef53577d611b02207bef15429dcadce2121ea07f233115c6f09034c0be68db99980b9a6c5e75402201475221022626e955ea6ea6d98850c994f9107b036b1334f18ca8830bfff1295d21cfdb702103b287eaf122eea69030a0e9feed096bed8045c8b98bec453e1ffac7fbdbd4bb7152aeffffffff04d3b11400000000001976a914904a49878c0adfc3aa05de7afad2cc15f483a56a88ac7f400900000000001976a914418327e3f3dda4cf5b9089325a4b95abdfa0334088ac722c0c00000000001976a914ba35042cfe9fc66fd35ac2224eebdafd1028ad2788acdc4ace020000000017a91474d691da1574e6b3c192ecfb52cc8984ee7b6c568700000000'\n",
    "stream = BytesIO(bytes.fromhex(hex_tx))\n",
    "# parse the S256Point and Signature\n",
    "point = S256Point.parse(sec)\n",
    "sig = Signature.parse(der)\n",
    "# parse the Tx\n",
    "t = Tx.parse(stream)\n",
    "# change the first input's scriptSig to redeemScript\n",
    "# use Script.parse on the redeem_script_stream\n",
    "t.tx_ins[0].script_sig = Script.parse(redeem_script_stream)\n",
    "# get the serialization\n",
    "ser = t.serialize()\n",
    "# add the sighash (4 bytes, little-endian of SIGHASH_ALL)\n",
    "ser += int_to_little_endian(SIGHASH_ALL, 4)\n",
    "# hash256 the result\n",
    "h256 = hash256(ser)\n",
    "# this interpreted is a big-endian number is your z\n",
    "z = int.from_bytes(h256, 'big')\n",
    "# now verify the signature using point.verify\n",
    "print(point.verify(z, sig))"
   ]
  },
  {
   "cell_type": "markdown",
   "metadata": {},
   "source": [
    "### Exercise 7\n",
    "\n",
    "\n",
    "\n",
    "\n",
    "#### Make [this test](/edit/week5/tx.py) pass: `tx.py:TxTest:test_is_coinbase`"
   ]
  },
  {
   "cell_type": "code",
   "execution_count": 12,
   "metadata": {},
   "outputs": [
    {
     "name": "stderr",
     "output_type": "stream",
     "text": [
      ".\n",
      "----------------------------------------------------------------------\n",
      "Ran 1 test in 0.007s\n",
      "\n",
      "OK\n"
     ]
    }
   ],
   "source": [
    "# Exercise 7\n",
    "\n",
    "reload(tx)\n",
    "run(tx.TxTest('test_is_coinbase'))"
   ]
  },
  {
   "cell_type": "markdown",
   "metadata": {},
   "source": [
    "### Exercise 8\n",
    "Parse the Genesis Block Coinbase Transaction and print out the scriptSig's third item\n",
    "\n",
    "```\n",
    "01000000010000000000000000000000000000000000000000000000000000000000000000ffffffff4d04ffff001d0104455468652054696d65732030332f4a616e2f32303039204368616e63656c6c6f72206f6e206272696e6b206f66207365636f6e64206261696c6f757420666f722062616e6b73ffffffff0100f2052a01000000434104678afdb0fe5548271967f1a67130b7105cd6a828e03909a67962e0ea1f61deb649f6bc3f4cef38c4f35504e51ec112de5c384df7ba0b8d578a4c702b6bf11d5fac00000000\n",
    "```\n"
   ]
  },
  {
   "cell_type": "code",
   "execution_count": 13,
   "metadata": {},
   "outputs": [
    {
     "name": "stdout",
     "output_type": "stream",
     "text": [
      "b'The Times 03/Jan/2009 Chancellor on brink of second bailout for banks'\n"
     ]
    }
   ],
   "source": [
    "# Exercise 8\n",
    "\n",
    "from io import BytesIO\n",
    "from tx import Tx\n",
    "hex_tx = '01000000010000000000000000000000000000000000000000000000000000000000000000ffffffff4d04ffff001d0104455468652054696d65732030332f4a616e2f32303039204368616e63656c6c6f72206f6e206272696e6b206f66207365636f6e64206261696c6f757420666f722062616e6b73ffffffff0100f2052a01000000434104678afdb0fe5548271967f1a67130b7105cd6a828e03909a67962e0ea1f61deb649f6bc3f4cef38c4f35504e51ec112de5c384df7ba0b8d578a4c702b6bf11d5fac00000000'\n",
    "# create stream with BytesIO and bytes.fromhex\n",
    "stream = BytesIO(bytes.fromhex(hex_tx))\n",
    "# parse the coinbase transaction\n",
    "coinbase = Tx.parse(stream)\n",
    "# print the first input's script_sig's third command\n",
    "print(coinbase.tx_ins[0].script_sig.commands[2])"
   ]
  },
  {
   "cell_type": "markdown",
   "metadata": {},
   "source": [
    "### Exercise 9\n",
    "\n",
    "\n",
    "\n",
    "\n",
    "#### Make [this test](/edit/week5/tx.py) pass: `tx.py:TxTest:test_coinbase_height`"
   ]
  },
  {
   "cell_type": "code",
   "execution_count": 14,
   "metadata": {},
   "outputs": [
    {
     "name": "stderr",
     "output_type": "stream",
     "text": [
      ".\n",
      "----------------------------------------------------------------------\n",
      "Ran 1 test in 0.008s\n",
      "\n",
      "OK\n"
     ]
    }
   ],
   "source": [
    "# Exercise 9\n",
    "\n",
    "reload(tx)\n",
    "run(tx.TxTest('test_coinbase_height'))"
   ]
  },
  {
   "cell_type": "markdown",
   "metadata": {},
   "source": [
    "### Exercise 10\n",
    "Find the output address corresponding to this ScriptPubKey\n",
    "```\n",
    "1976a914338c84849423992471bffb1a54a8d9b1d69dc28a88ac\n",
    "```\n",
    "\n",
    "Remember the structure of pay-to-pubkey-hash (p2pkh) which has `OP_DUP OP_HASH160 <hash> OP_EQUALVERIFY OP_CHECKSIG`.\n",
    "\n",
    "You need to grab the hash160 and turn that into an address.\n"
   ]
  },
  {
   "cell_type": "code",
   "execution_count": 15,
   "metadata": {},
   "outputs": [
    {
     "name": "stdout",
     "output_type": "stream",
     "text": [
      "15hZo812Lx266Dot6T52krxpnhrNiaqHya\n"
     ]
    }
   ],
   "source": [
    "# Exercise 10\n",
    "\n",
    "from io import BytesIO\n",
    "from script import Script\n",
    "hex_script_pubkey = '1976a914338c84849423992471bffb1a54a8d9b1d69dc28a88ac'\n",
    "# BytesIO(bytes.fromhex) to get the stream\n",
    "stream = BytesIO(bytes.fromhex(hex_script_pubkey))\n",
    "# parse with Script\n",
    "script_pubkey = Script.parse(stream)\n",
    "# get the address using address() on the script_pubkey\n",
    "print(script_pubkey.address())"
   ]
  },
  {
   "cell_type": "markdown",
   "metadata": {},
   "source": [
    "### Exercise 11\n",
    "What is the hash256 of this block? Notice anything?\n",
    "```\n",
    "020000208ec39428b17323fa0ddec8e887b4a7c53b8c0a0a220cfd0000000000000000005b0750fce0a889502d40508d39576821155e9c9e3f5c3157f961db38fd8b25be1e77a759e93c0118a4ffd71d\n",
    "```\n"
   ]
  },
  {
   "cell_type": "code",
   "execution_count": 16,
   "metadata": {},
   "outputs": [
    {
     "name": "stdout",
     "output_type": "stream",
     "text": [
      "2375044d646ad73594dd0b37b113becdb03964584c9e7e000000000000000000\n"
     ]
    }
   ],
   "source": [
    "# Exercise 11\n",
    "\n",
    "from helper import hash256\n",
    "hex_block = '020000208ec39428b17323fa0ddec8e887b4a7c53b8c0a0a220cfd0000000000000000005b0750fce0a889502d40508d39576821155e9c9e3f5c3157f961db38fd8b25be1e77a759e93c0118a4ffd71d'\n",
    "# bytes.fromhex to get the binary\n",
    "bin_block = bytes.fromhex(hex_block)\n",
    "# hash256 the result\n",
    "result = hash256(bin_block)\n",
    "# hex() to see what it looks like\n",
    "print(result.hex())"
   ]
  },
  {
   "cell_type": "markdown",
   "metadata": {},
   "source": [
    "### Exercise 12\n",
    "\n",
    "\n",
    "\n",
    "\n",
    "#### Make [this test](/edit/week5/block.py) pass: `block.py:BlockTest:test_parse`"
   ]
  },
  {
   "cell_type": "code",
   "execution_count": 17,
   "metadata": {},
   "outputs": [
    {
     "name": "stderr",
     "output_type": "stream",
     "text": [
      ".\n",
      "----------------------------------------------------------------------\n",
      "Ran 1 test in 0.001s\n",
      "\n",
      "OK\n"
     ]
    }
   ],
   "source": [
    "# Exercise 12\n",
    "\n",
    "reload(block)\n",
    "run(block.BlockTest('test_parse'))"
   ]
  },
  {
   "cell_type": "markdown",
   "metadata": {},
   "source": [
    "### Exercise 13\n",
    "\n",
    "\n",
    "\n",
    "\n",
    "#### Make [this test](/edit/week5/block.py) pass: `block.py:BlockTest:test_serialize`"
   ]
  },
  {
   "cell_type": "code",
   "execution_count": 18,
   "metadata": {},
   "outputs": [
    {
     "name": "stderr",
     "output_type": "stream",
     "text": [
      ".\n",
      "----------------------------------------------------------------------\n",
      "Ran 1 test in 0.001s\n",
      "\n",
      "OK\n"
     ]
    }
   ],
   "source": [
    "# Exercise 13\n",
    "\n",
    "reload(block)\n",
    "run(block.BlockTest('test_serialize'))"
   ]
  },
  {
   "cell_type": "markdown",
   "metadata": {},
   "source": [
    "### Exercise 14\n",
    "\n",
    "\n",
    "\n",
    "\n",
    "#### Make [this test](/edit/week5/block.py) pass: `block.py:BlockTest:test_hash`"
   ]
  },
  {
   "cell_type": "code",
   "execution_count": 19,
   "metadata": {},
   "outputs": [
    {
     "name": "stderr",
     "output_type": "stream",
     "text": [
      ".\n",
      "----------------------------------------------------------------------\n",
      "Ran 1 test in 0.001s\n",
      "\n",
      "OK\n"
     ]
    }
   ],
   "source": [
    "# Exercise 14\n",
    "\n",
    "reload(block)\n",
    "run(block.BlockTest('test_hash'))"
   ]
  },
  {
   "cell_type": "code",
   "execution_count": 20,
   "metadata": {},
   "outputs": [
    {
     "name": "stdout",
     "output_type": "stream",
     "text": [
      "BIP9: True\n",
      "BIP91: False\n",
      "BIP141: True\n"
     ]
    }
   ],
   "source": [
    "# Version Signaling Example\n",
    "from block import Block\n",
    "from io import BytesIO\n",
    "hex_block = '020000208ec39428b17323fa0ddec8e887b4a7c53b8c0a0a220cfd0000000000000000005b0750fce0a889502d40508d39576821155e9c9e3f5c3157f961db38fd8b25be1e77a759e93c0118a4ffd71d'\n",
    "bin_block = bytes.fromhex(hex_block)\n",
    "stream = BytesIO(bin_block)\n",
    "b = Block.parse(stream)\n",
    "version = b.version\n",
    "print('BIP9: {}'.format(version >> 29 == 0b001))\n",
    "print('BIP91: {}'.format(version >> 4 & 1 == 1))\n",
    "print('BIP141: {}'.format(version >> 1 & 1 == 1))"
   ]
  },
  {
   "cell_type": "markdown",
   "metadata": {},
   "source": [
    "### Exercise 15\n",
    "\n",
    "\n",
    "\n",
    "\n",
    "#### Make [this test](/edit/week5/block.py) pass: `block.py:BlockTest:test_bip9`"
   ]
  },
  {
   "cell_type": "code",
   "execution_count": 21,
   "metadata": {},
   "outputs": [
    {
     "name": "stderr",
     "output_type": "stream",
     "text": [
      ".\n",
      "----------------------------------------------------------------------\n",
      "Ran 1 test in 0.000s\n",
      "\n",
      "OK\n"
     ]
    }
   ],
   "source": [
    "# Exercise 15\n",
    "\n",
    "reload(block)\n",
    "run(block.BlockTest('test_bip9'))"
   ]
  },
  {
   "cell_type": "markdown",
   "metadata": {},
   "source": [
    "### Exercise 16\n",
    "\n",
    "\n",
    "\n",
    "\n",
    "#### Make [this test](/edit/week5/block.py) pass: `block.py:BlockTest:test_bip91`"
   ]
  },
  {
   "cell_type": "code",
   "execution_count": 22,
   "metadata": {},
   "outputs": [
    {
     "name": "stderr",
     "output_type": "stream",
     "text": [
      ".\n",
      "----------------------------------------------------------------------\n",
      "Ran 1 test in 0.001s\n",
      "\n",
      "OK\n"
     ]
    }
   ],
   "source": [
    "# Exercise 16\n",
    "\n",
    "reload(block)\n",
    "run(block.BlockTest('test_bip91'))"
   ]
  },
  {
   "cell_type": "markdown",
   "metadata": {},
   "source": [
    "### Exercise 17\n",
    "\n",
    "\n",
    "\n",
    "\n",
    "#### Make [this test](/edit/week5/block.py) pass: `block.py:BlockTest:test_bip141`"
   ]
  },
  {
   "cell_type": "code",
   "execution_count": 23,
   "metadata": {},
   "outputs": [
    {
     "name": "stderr",
     "output_type": "stream",
     "text": [
      ".\n",
      "----------------------------------------------------------------------\n",
      "Ran 1 test in 0.001s\n",
      "\n",
      "OK\n"
     ]
    }
   ],
   "source": [
    "# Exercise 17\n",
    "\n",
    "reload(block)\n",
    "run(block.BlockTest('test_bip141'))"
   ]
  },
  {
   "cell_type": "code",
   "execution_count": 24,
   "metadata": {},
   "outputs": [
    {
     "name": "stdout",
     "output_type": "stream",
     "text": [
      "0000000000000000013ce9000000000000000000000000000000000000000000\n"
     ]
    }
   ],
   "source": [
    "# Calculating Target from Bits Example\n",
    "from helper import little_endian_to_int\n",
    "bits = bytes.fromhex('e93c0118')\n",
    "exponent = bits[-1]\n",
    "coefficient = little_endian_to_int(bits[:-1])\n",
    "target = coefficient*256**(exponent-3)\n",
    "print('{:x}'.format(target).zfill(64))"
   ]
  },
  {
   "cell_type": "code",
   "execution_count": 25,
   "metadata": {},
   "outputs": [
    {
     "name": "stdout",
     "output_type": "stream",
     "text": [
      "888171856257\n"
     ]
    }
   ],
   "source": [
    "# Calculating Difficulty from Target Example\n",
    "from helper import little_endian_to_int\n",
    "bits = bytes.fromhex('e93c0118')\n",
    "exponent = bits[-1]\n",
    "coefficient = little_endian_to_int(bits[:-1])\n",
    "target = coefficient * 256**(exponent - 3)\n",
    "min_target = 0xffff * 256**(0x1d - 3)\n",
    "difficulty = min_target // target\n",
    "print(difficulty)"
   ]
  },
  {
   "cell_type": "markdown",
   "metadata": {},
   "source": [
    "### Exercise 18\n",
    "Calculate the target and difficulty for these bits:\n",
    "```\n",
    "f2881718\n",
    "```\n",
    "\n",
    "Bits to target formula is\n",
    "\n",
    "\\\\(\\texttt{coefficient}\\cdot256^{(\\texttt{exponent}-3)}\\\\)\n",
    "\n",
    "where coefficient is the first three bytes in little endian and exponent is the last byte.\n",
    "\n",
    "Target to Difficulty formula is\n",
    "\n",
    "\\\\(\\texttt{difficulty} = \\texttt{min} / \\texttt{target}\\\\)\n",
    "\n",
    "where \\\\(\\texttt{min} = \\texttt{0xffff}\\cdot256^{(\\texttt{0x1d}-3)}\\\\)\n"
   ]
  },
  {
   "cell_type": "code",
   "execution_count": 26,
   "metadata": {},
   "outputs": [
    {
     "name": "stdout",
     "output_type": "stream",
     "text": [
      "00000000000000001788f2000000000000000000000000000000000000000000\n",
      "46717549644\n"
     ]
    }
   ],
   "source": [
    "# Exercise 18\n",
    "\n",
    "hex_bits = 'f2881718'\n",
    "# bytes.fromhex to get the bits\n",
    "bits = bytes.fromhex(hex_bits)\n",
    "# last byte is exponent\n",
    "exponent = bits[-1]\n",
    "# first three bytes are the coefficient in little endian\n",
    "coefficient = little_endian_to_int(bits[:-1])\n",
    "# plug into formula coefficient * 256^(exponent-3) to get the target\n",
    "target = coefficient * 256**(exponent-3)\n",
    "# print target using print('{:x}'.format(target).zfill(64))\n",
    "print('{:x}'.format(target).zfill(64))\n",
    "# difficulty formula is 0xffff * 256**(0x1d - 3) / target\n",
    "difficulty = 0xffff * 256**(0x1d - 3) // target\n",
    "# print the difficulty\n",
    "print(difficulty)"
   ]
  },
  {
   "cell_type": "markdown",
   "metadata": {},
   "source": [
    "### Exercise 19\n",
    "\n",
    "\n",
    "\n",
    "\n",
    "#### Make [this test](/edit/week5/block.py) pass: `block.py:BlockTest:test_target`"
   ]
  },
  {
   "cell_type": "code",
   "execution_count": 27,
   "metadata": {},
   "outputs": [
    {
     "name": "stderr",
     "output_type": "stream",
     "text": [
      ".\n",
      "----------------------------------------------------------------------\n",
      "Ran 1 test in 0.001s\n",
      "\n",
      "OK\n"
     ]
    }
   ],
   "source": [
    "# Exercise 19\n",
    "\n",
    "reload(block)\n",
    "run(block.BlockTest('test_target'))"
   ]
  },
  {
   "cell_type": "markdown",
   "metadata": {},
   "source": [
    "### Exercise 20\n",
    "Validate the proof-of-work for this block\n",
    "```\n",
    "04000000fbedbbf0cfdaf278c094f187f2eb987c86a199da22bbb20400000000000000007b7697b29129648fa08b4bcd13c9d5e60abb973a1efac9c8d573c71c807c56c3d6213557faa80518c3737ec1\n",
    "```\n",
    "\n",
    "Check that the proof-of-work (hash256 interpreted as a little-endian number) is lower than the target.\n"
   ]
  },
  {
   "cell_type": "code",
   "execution_count": 28,
   "metadata": {},
   "outputs": [
    {
     "name": "stdout",
     "output_type": "stream",
     "text": [
      "True\n"
     ]
    }
   ],
   "source": [
    "# Exercise 20\n",
    "\n",
    "from block import Block\n",
    "hex_block = '04000000fbedbbf0cfdaf278c094f187f2eb987c86a199da22bbb20400000000000000007b7697b29129648fa08b4bcd13c9d5e60abb973a1efac9c8d573c71c807c56c3d6213557faa80518c3737ec1'\n",
    "# bytes.fromhex to get the binary block\n",
    "bin_block = bytes.fromhex(hex_block)\n",
    "# make a stream using BytesIO\n",
    "stream = BytesIO(bin_block)\n",
    "# parse the Block\n",
    "b = Block.parse(stream)\n",
    "# hash256 the serialization\n",
    "h256 = hash256(b.serialize())\n",
    "# interpret the result as a number in little endian\n",
    "proof = little_endian_to_int(h256)\n",
    "# get the target\n",
    "target = b.target()\n",
    "# check proof of work < target\n",
    "print(proof < target)"
   ]
  },
  {
   "cell_type": "markdown",
   "metadata": {},
   "source": [
    "### Exercise 21\n",
    "\n",
    "\n",
    "\n",
    "\n",
    "#### Make [this test](/edit/week5/block.py) pass: `block.py:BlockTest:test_check_pow`"
   ]
  },
  {
   "cell_type": "code",
   "execution_count": 29,
   "metadata": {},
   "outputs": [
    {
     "name": "stderr",
     "output_type": "stream",
     "text": [
      ".\n",
      "----------------------------------------------------------------------\n",
      "Ran 1 test in 0.001s\n",
      "\n",
      "OK\n"
     ]
    }
   ],
   "source": [
    "# Exercise 21\n",
    "\n",
    "reload(block)\n",
    "run(block.BlockTest('test_check_pow'))"
   ]
  }
 ],
 "metadata": {
  "kernelspec": {
   "display_name": "Python 3",
   "language": "python",
   "name": "python3"
  },
  "language_info": {
   "codemirror_mode": {
    "name": "ipython",
    "version": 3
   },
   "file_extension": ".py",
   "mimetype": "text/x-python",
   "name": "python",
   "nbconvert_exporter": "python",
   "pygments_lexer": "ipython3",
   "version": "3.6.7"
  }
 },
 "nbformat": 4,
 "nbformat_minor": 2
}
