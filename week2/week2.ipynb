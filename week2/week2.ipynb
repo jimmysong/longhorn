{
 "cells": [
  {
   "cell_type": "code",
   "execution_count": null,
   "metadata": {},
   "outputs": [],
   "source": [
    "############## PLEASE RUN THIS CELL FIRST! ###################\n",
    "\n",
    "# import everything and define a test runner function\n",
    "from importlib import reload\n",
    "from helper import run\n",
    "import ecc, helper"
   ]
  },
  {
   "cell_type": "code",
   "execution_count": null,
   "metadata": {},
   "outputs": [],
   "source": [
    "# Verify curve Example\n",
    "prime = 137\n",
    "x, y = 73, 128\n",
    "print(y**2 % prime == (x**3 + 7) % prime)"
   ]
  },
  {
   "cell_type": "markdown",
   "metadata": {},
   "source": [
    "### Exercise 1\n",
    "Find out which points are valid on the curve \\\\( y^2 = x^3 + 7: F_{223} \\\\)\n",
    "```\n",
    "(192,105), (17,56), (200,119), (1,193), (42,99)\n",
    "```\n"
   ]
  },
  {
   "cell_type": "code",
   "execution_count": null,
   "metadata": {},
   "outputs": [],
   "source": [
    "# Exercise 1\n",
    "\n",
    "from ecc import FieldElement, Point\n",
    "prime = 223\n",
    "a = FieldElement(0, prime)\n",
    "b = FieldElement(7, prime)\n",
    "points = ((192,105), (17,56), (200,119), (1,193), (42,99))\n",
    "# iterate over points\n",
    "\n",
    "    # Initialize points this way:\n",
    "    # x = FieldElement(x_raw, prime)\n",
    "    # y = FieldElement(y_raw, prime)\n",
    "\n",
    "\n",
    "    # try initializing, ValueError means not on curve\n",
    "    # p = Point(x, y, a, b)\n",
    "    # print whether it's on the curve or not\n",
    "\n",
    "\n",
    "\n",
    "\n"
   ]
  },
  {
   "cell_type": "markdown",
   "metadata": {},
   "source": [
    "### Exercise 2\n",
    "\n",
    "\n",
    "\n",
    "\n",
    "#### Make [this test](/edit/week2/ecc.py) pass: `ecc.py:ECCTest:test_on_curve`"
   ]
  },
  {
   "cell_type": "code",
   "execution_count": null,
   "metadata": {},
   "outputs": [],
   "source": [
    "# Exercise 2\n",
    "\n",
    "reload(ecc)\n",
    "run(ecc.ECCTest('test_on_curve'))"
   ]
  },
  {
   "cell_type": "code",
   "execution_count": null,
   "metadata": {},
   "outputs": [],
   "source": [
    "# Example where x1 != x2\n",
    "from ecc import FieldElement, Point\n",
    "prime = 137\n",
    "a = FieldElement(0, prime)\n",
    "b = FieldElement(7, prime)\n",
    "p1 = Point(FieldElement(73, prime), FieldElement(128, prime), a, b)\n",
    "p2 = Point(FieldElement(46, prime), FieldElement(22, prime), a, b)\n",
    "print(p1+p2)"
   ]
  },
  {
   "cell_type": "markdown",
   "metadata": {},
   "source": [
    "### Exercise 3\n",
    "Find the following point additions on the curve  \\\\( y^2 = x^3 + 7: F_{223} \\\\)\n",
    "```\n",
    "(192,105) + (17,56), (47,71) + (117,141), (143,98) + (76,66)\n",
    "```\n"
   ]
  },
  {
   "cell_type": "code",
   "execution_count": null,
   "metadata": {},
   "outputs": [],
   "source": [
    "# Exercise 3\n",
    "\n",
    "from ecc import FieldElement, Point\n",
    "prime = 223\n",
    "a = FieldElement(0, prime)\n",
    "b = FieldElement(7, prime)\n",
    "additions = ((192, 105, 17, 56), (47, 71, 117, 141), (143, 98, 76, 66))\n",
    "# iterate over the additions to be done\n",
    "\n",
    "    # Initialize points this way:\n",
    "    # x1 = FieldElement(x1_raw, prime)\n",
    "    # y1 = FieldElement(y1_raw, prime)\n",
    "    # p1 = Point(x1, y1, a, b)\n",
    "    # x2 = FieldElement(x2_raw, prime)\n",
    "    # y2 = FieldElement(y2_raw, prime)\n",
    "    # p2 = Point(x2, y2, a, b)\n",
    "\n",
    "\n",
    "\n",
    "\n",
    "\n",
    "\n",
    "    # print p1+p2\n"
   ]
  },
  {
   "cell_type": "markdown",
   "metadata": {},
   "source": [
    "### Exercise 4\n",
    "\n",
    "\n",
    "\n",
    "\n",
    "#### Make [this test](/edit/week2/ecc.py) pass: `ecc.py:ECCTest:test_add`"
   ]
  },
  {
   "cell_type": "code",
   "execution_count": null,
   "metadata": {},
   "outputs": [],
   "source": [
    "# Exercise 4\n",
    "\n",
    "reload(ecc)\n",
    "run(ecc.ECCTest('test_add'))"
   ]
  },
  {
   "cell_type": "code",
   "execution_count": null,
   "metadata": {},
   "outputs": [],
   "source": [
    "# Example where x1 == x2\n",
    "from ecc import FieldElement, Point\n",
    "prime = 137\n",
    "a = FieldElement(0, prime)\n",
    "b = FieldElement(7, prime)\n",
    "p = Point(FieldElement(73, prime), FieldElement(128, prime), a, b)\n",
    "print(p+p)"
   ]
  },
  {
   "cell_type": "markdown",
   "metadata": {},
   "source": [
    "### Exercise 5\n",
    "Find the following scalar multiplications on the curve  \\\\( y^2 = x^3 + 7: F_{223} \\\\)\n",
    "\n",
    "* 2*(192,105)\n",
    "* 2*(143,98)\n",
    "* 2*(47,71)\n",
    "* 4*(47,71)\n",
    "* 8*(47,71)\n",
    "* 21*(47,71)\n",
    "\n",
    "#### Hint: add the point to itself n times\n"
   ]
  },
  {
   "cell_type": "code",
   "execution_count": null,
   "metadata": {},
   "outputs": [],
   "source": [
    "# Exercise 5\n",
    "\n",
    "from ecc import FieldElement, Point\n",
    "prime = 223\n",
    "a = FieldElement(0, prime)\n",
    "b = FieldElement(7, prime)\n",
    "multiplications = ((2, 192, 105), (2, 143, 98), (2, 47, 71), (4, 47, 71), (8, 47, 71), (21, 47, 71))\n",
    "# iterate over the multiplications\n",
    "\n",
    "    # Initialize points this way:\n",
    "    # x = FieldElement(x_raw, prime)\n",
    "    # y = FieldElement(y_raw, prime)\n",
    "    # p = Point(x, y, a, b)\n",
    "\n",
    "\n",
    "\n",
    "    # start product at 0 (point at infinity)\n",
    "\n",
    "    # loop over n times (n is 2, 4, 8 or 21 in the above examples)\n",
    "\n",
    "        # add the point to the product\n",
    "\n",
    "    # print product\n"
   ]
  },
  {
   "cell_type": "code",
   "execution_count": null,
   "metadata": {},
   "outputs": [],
   "source": [
    "# Group Example\n",
    "from ecc import FieldElement, Point\n",
    "prime = 223\n",
    "a = FieldElement(0, prime)\n",
    "b = FieldElement(7, prime)\n",
    "g = Point(FieldElement(47, prime), FieldElement(71, prime), a, b)\n",
    "inf = Point(None, None, a, b)\n",
    "total = g\n",
    "count = 1\n",
    "while total != inf:\n",
    "    print('{}:{}'.format(count, total))\n",
    "    total += g\n",
    "    count += 1\n",
    "print('{}:{}'.format(count, total))"
   ]
  },
  {
   "cell_type": "markdown",
   "metadata": {},
   "source": [
    "### Exercise 6\n",
    "Find out what the order of the group generated by (15, 86) is on  \\\\( y^2 = x^3 + 7: F_{223} \\\\)\n",
    "\n",
    "#### Hint: add the point to itself until you get the point at infinity\n"
   ]
  },
  {
   "cell_type": "code",
   "execution_count": null,
   "metadata": {},
   "outputs": [],
   "source": [
    "# Exercise 6\n",
    "\n",
    "from ecc import FieldElement, Point\n",
    "prime = 223\n",
    "a = FieldElement(0, prime)\n",
    "b = FieldElement(7, prime)\n",
    "x = FieldElement(15, prime)\n",
    "y = FieldElement(86, prime)\n",
    "p = Point(x, y, a, b)\n",
    "inf = Point(None, None, a, b)\n",
    "# start product at point\n",
    "\n",
    "# start counter at 1\n",
    "\n",
    "# loop until you get point at infinity (0)\n",
    "\n",
    "    # add the point to the product\n",
    "\n",
    "    # increment counter\n",
    "\n",
    "# print counter\n"
   ]
  },
  {
   "cell_type": "markdown",
   "metadata": {},
   "source": [
    "### Exercise 7\n",
    "\n",
    "\n",
    "\n",
    "\n",
    "#### Make [this test](/edit/week2/ecc.py) pass: `ecc.py:ECCTest:test_rmul`"
   ]
  },
  {
   "cell_type": "code",
   "execution_count": null,
   "metadata": {},
   "outputs": [],
   "source": [
    "# Exercise 7\n",
    "\n",
    "reload(ecc)\n",
    "run(ecc.ECCTest('test_rmul'))"
   ]
  },
  {
   "cell_type": "code",
   "execution_count": null,
   "metadata": {},
   "outputs": [],
   "source": [
    "# Confirming G is on the curve\n",
    "p = 2**256 - 2**32 - 977\n",
    "x = 0x79BE667EF9DCBBAC55A06295CE870B07029BFCDB2DCE28D959F2815B16F81798\n",
    "y = 0x483ADA7726A3C4655DA4FBFC0E1108A8FD17B448A68554199C47D08FFB10D4B8\n",
    "print(y**2 % p == (x**3 + 7) % p)"
   ]
  },
  {
   "cell_type": "code",
   "execution_count": null,
   "metadata": {},
   "outputs": [],
   "source": [
    "# Confirming order of G is n\n",
    "from ecc import G\n",
    "n = 0xFFFFFFFFFFFFFFFFFFFFFFFFFFFFFFFEBAAEDCE6AF48A03BBFD25E8CD0364141\n",
    "print(n*G)"
   ]
  },
  {
   "cell_type": "code",
   "execution_count": null,
   "metadata": {},
   "outputs": [],
   "source": [
    "# Getting the public point from a secret\n",
    "from ecc import G\n",
    "secret = 999\n",
    "point = secret*G\n",
    "print(point)"
   ]
  },
  {
   "cell_type": "markdown",
   "metadata": {},
   "source": [
    "### Exercise 8\n",
    "Get the public point where the scalar is the following:\n",
    "\n",
    "* 7\n",
    "* 1485\n",
    "* \\\\(2^{128}\\\\)\n",
    "* \\\\(2^{240}+2^{31}\\\\)\n"
   ]
  },
  {
   "cell_type": "code",
   "execution_count": null,
   "metadata": {},
   "outputs": [],
   "source": [
    "# Exercise 8\n",
    "\n",
    "from ecc import G\n",
    "secrets = (7, 1485, 2**128, 2**240+2**31)\n",
    "# iterate over secrets\n",
    "\n",
    "    # get the public point\n"
   ]
  },
  {
   "cell_type": "markdown",
   "metadata": {},
   "source": [
    "### Exercise 9\n",
    "\n",
    "\n",
    "\n",
    "\n",
    "#### Make [this test](/edit/week2/ecc.py) pass: `ecc.py:S256Test:test_pubpoint`"
   ]
  },
  {
   "cell_type": "code",
   "execution_count": null,
   "metadata": {},
   "outputs": [],
   "source": [
    "# Exercise 9\n",
    "\n",
    "reload(ecc)\n",
    "run(ecc.S256Test('test_pubpoint'))"
   ]
  },
  {
   "cell_type": "code",
   "execution_count": null,
   "metadata": {},
   "outputs": [],
   "source": [
    "# SEC Example\n",
    "from ecc import S256Point\n",
    "point = S256Point(0x5CBDF0646E5DB4EAA398F365F2EA7A0E3D419B7E0330E39CE92BDDEDCAC4F9BC, 0x6AEBCA40BA255960A3178D6D861A54DBA813D0B813FDE7B5A5082628087264DA)\n",
    "uncompressed = b'\\x04' + point.x.num.to_bytes(32, 'big') + point.y.num.to_bytes(32, 'big')\n",
    "print(uncompressed.hex())\n",
    "if point.y.num % 2 == 1:\n",
    "    compressed = b'\\x03' + point.x.num.to_bytes(32, 'big')\n",
    "else:\n",
    "    compressed = b'\\x02' + point.x.num.to_bytes(32, 'big')\n",
    "print(compressed.hex())"
   ]
  },
  {
   "cell_type": "markdown",
   "metadata": {},
   "source": [
    "### Exercise 10\n",
    "Find the compressed and uncompressed SEC format for pub keys where the private keys are:\n",
    "```\n",
    "999**3, 123, 42424242\n",
    "```\n"
   ]
  },
  {
   "cell_type": "code",
   "execution_count": null,
   "metadata": {},
   "outputs": [],
   "source": [
    "# Exercise 10\n",
    "\n",
    "from ecc import G\n",
    "secrets = (999**3, 123, 42424242)\n",
    "# iterate through secrets\n",
    "\n",
    "    # get public point\n",
    "\n",
    "    # uncompressed - b'\\x04' followed by x coord, then y coord\n",
    "    # here's how you express a coordinate in bytes: some_integer.to_bytes(32, 'big')\n",
    "\n",
    "    # compressed - b'\\x02'/b'\\x03' follewed by x coord. 02 if y is even, 03 otherwise\n",
    "\n",
    "\n",
    "\n",
    "\n",
    "    # print the .hex() of both\n",
    "\n"
   ]
  },
  {
   "cell_type": "markdown",
   "metadata": {},
   "source": [
    "### Exercise 11\n",
    "\n",
    "\n",
    "\n",
    "\n",
    "#### Make [this test](/edit/week2/ecc.py) pass: `ecc.py:S256Test:test_sec`"
   ]
  },
  {
   "cell_type": "code",
   "execution_count": null,
   "metadata": {},
   "outputs": [],
   "source": [
    "# Exercise 11\n",
    "\n",
    "reload(ecc)\n",
    "run(ecc.S256Test('test_sec'))"
   ]
  },
  {
   "cell_type": "code",
   "execution_count": null,
   "metadata": {},
   "outputs": [],
   "source": [
    "# Address Example\n",
    "from helper import encode_base58, hash160, hash256\n",
    "sec = bytes.fromhex('025CBDF0646E5DB4EAA398F365F2EA7A0E3D419B7E0330E39CE92BDDEDCAC4F9BC')\n",
    "h160 = hash160(sec)\n",
    "raw = b'\\x00' + h160\n",
    "raw = raw + hash256(raw)[:4]\n",
    "addr = encode_base58(raw)\n",
    "print(addr)"
   ]
  },
  {
   "cell_type": "markdown",
   "metadata": {},
   "source": [
    "### Exercise 12\n",
    "Find the mainnet and testnet addresses corresponding to the private keys:\n",
    "\n",
    "* \\\\(888^3\\\\), compressed\n",
    "* 321, uncompressed\n",
    "* 4242424242, uncompressed\n"
   ]
  },
  {
   "cell_type": "code",
   "execution_count": null,
   "metadata": {},
   "outputs": [],
   "source": [
    "# Exercise 12\n",
    "\n",
    "from ecc import G\n",
    "components = (\n",
    "    # (secret, compressed)\n",
    "    (888**3, True),\n",
    "    (321, False),\n",
    "    (4242424242, False),\n",
    ")\n",
    "# iterate through components\n",
    "\n",
    "    # get the public point\n",
    "\n",
    "    # get the sec format\n",
    "\n",
    "    # hash160 the result\n",
    "\n",
    "    # prepend b'\\x00' for mainnet b'\\x6f' for testnet\n",
    "\n",
    "        # raw is the prefix + h160\n",
    "\n",
    "        # get the hash256 of the raw, first 4 bytes are the checksum\n",
    "\n",
    "        # append checksum\n",
    "\n",
    "        # encode_base58 the whole thing\n"
   ]
  },
  {
   "cell_type": "markdown",
   "metadata": {},
   "source": [
    "### Exercise 13\n",
    "\n",
    "\n",
    "\n",
    "\n",
    "#### Make [this test](/edit/week2/helper.py) pass: `helper.py:HelperTest:test_encode_base58_checksum`"
   ]
  },
  {
   "cell_type": "code",
   "execution_count": null,
   "metadata": {},
   "outputs": [],
   "source": [
    "# Exercise 13\n",
    "\n",
    "reload(helper)\n",
    "run(helper.HelperTest('test_encode_base58_checksum'))"
   ]
  },
  {
   "cell_type": "markdown",
   "metadata": {},
   "source": [
    "### Exercise 14\n",
    "\n",
    "\n",
    "\n",
    "\n",
    "#### Make [this test](/edit/week2/ecc.py) pass: `ecc.py:S256Test:test_address`"
   ]
  },
  {
   "cell_type": "code",
   "execution_count": null,
   "metadata": {},
   "outputs": [],
   "source": [
    "# Exercise 14\n",
    "\n",
    "reload(ecc)\n",
    "run(ecc.S256Test('test_address'))"
   ]
  },
  {
   "cell_type": "markdown",
   "metadata": {},
   "source": [
    "### Exercise 15\n",
    "Create a testnet address using your own secret key (use your name and email as the password if you can't think of anything). Record this secret key for tomorrow!\n"
   ]
  },
  {
   "cell_type": "code",
   "execution_count": null,
   "metadata": {},
   "outputs": [],
   "source": [
    "# Exercise 15\n",
    "\n",
    "from ecc import G\n",
    "from helper import hash256, little_endian_to_int\n",
    "# use a passphrase\n",
    "passphrase = b'<fill this in with your name and email>'\n",
    "secret = little_endian_to_int(hash256(passphrase))\n",
    "# get the public point\n",
    "\n",
    "# if you completed 7.2, just do the .address(testnet=True) method on the public point\n"
   ]
  },
  {
   "cell_type": "code",
   "execution_count": null,
   "metadata": {},
   "outputs": [],
   "source": [
    "# Signing Example\n",
    "from ecc import N, G\n",
    "from helper import hash256\n",
    "secret = 1800555555518005555555\n",
    "z = int.from_bytes(hash256(b'ECDSA is awesome!'), 'big')\n",
    "k = 12345\n",
    "r = (k*G).x.num\n",
    "s = (z+r*secret) * pow(k, N-2, N) % N\n",
    "print(hex(z), hex(r), hex(s))\n",
    "print(secret*G)"
   ]
  },
  {
   "cell_type": "code",
   "execution_count": null,
   "metadata": {},
   "outputs": [],
   "source": [
    "# Verification Example\n",
    "from ecc import G, N, S256Point\n",
    "z = 0xbc62d4b80d9e36da29c16c5d4d9f11731f36052c72401a76c23c0fb5a9b74423\n",
    "r = 0x37206a0610995c58074999cb9767b87af4c4978db68c06e8e6e81d282047a7c6\n",
    "s = 0x8ca63759c1157ebeaec0d03cecca119fc9a75bf8e6d0fa65c841c8e2738cdaec\n",
    "point = S256Point(0x04519fac3d910ca7e7138f7013706f619fa8f033e6ec6e09370ea38cee6a7574,\n",
    "                  0x82b51eab8c27c66e26c858a079bcdf4f1ada34cec420cafc7eac1a42216fb6c4)\n",
    "u = z * pow(s, N-2, N) % N\n",
    "v = r * pow(s, N-2, N) % N\n",
    "print((u*G + v*point).x.num == r)"
   ]
  },
  {
   "cell_type": "markdown",
   "metadata": {},
   "source": [
    "### Exercise 16\n",
    "Which sigs are valid?\n",
    "\n",
    "```\n",
    "P = (887387e452b8eacc4acfde10d9aaf7f6d9a0f975aabb10d006e4da568744d06c,\n",
    "61de6d95231cd89026e286df3b6ae4a894a3378e393e93a0f45b666329a0ae34)\n",
    "z, r, s = ec208baa0fc1c19f708a9ca96fdeff3ac3f230bb4a7ba4aede4942ad003c0f60,\n",
    "ac8d1c87e51d0d441be8b3dd5b05c8795b48875dffe00b7ffcfac23010d3a395,\n",
    "68342ceff8935ededd102dd876ffd6ba72d6a427a3edb13d26eb0781cb423c4\n",
    "z, r, s = 7c076ff316692a3d7eb3c3bb0f8b1488cf72e1afcd929e29307032997a838a3d,\n",
    "eff69ef2b1bd93a66ed5219add4fb51e11a840f404876325a1e8ffe0529a2c,\n",
    "c7207fee197d27c618aea621406f6bf5ef6fca38681d82b2f06fddbdce6feab6\n",
    "```\n"
   ]
  },
  {
   "cell_type": "code",
   "execution_count": null,
   "metadata": {},
   "outputs": [],
   "source": [
    "# Exercise 16\n",
    "\n",
    "from ecc import G, N, S256Point\n",
    "px = 0x887387e452b8eacc4acfde10d9aaf7f6d9a0f975aabb10d006e4da568744d06c\n",
    "py = 0x61de6d95231cd89026e286df3b6ae4a894a3378e393e93a0f45b666329a0ae34\n",
    "signatures = (\n",
    "    # (z, r, s)\n",
    "    (0xec208baa0fc1c19f708a9ca96fdeff3ac3f230bb4a7ba4aede4942ad003c0f60,\n",
    "     0xac8d1c87e51d0d441be8b3dd5b05c8795b48875dffe00b7ffcfac23010d3a395,\n",
    "     0x68342ceff8935ededd102dd876ffd6ba72d6a427a3edb13d26eb0781cb423c4),\n",
    "    (0x7c076ff316692a3d7eb3c3bb0f8b1488cf72e1afcd929e29307032997a838a3d,\n",
    "     0xeff69ef2b1bd93a66ed5219add4fb51e11a840f404876325a1e8ffe0529a2c,\n",
    "     0xc7207fee197d27c618aea621406f6bf5ef6fca38681d82b2f06fddbdce6feab6),\n",
    ")\n",
    "# initialize the public point\n",
    "# use: S256Point(x-coordinate, y-coordinate)\n",
    "\n",
    "# iterate over signatures\n",
    "\n",
    "    # u = z / s, v = r / s\n",
    "\n",
    "\n",
    "    # finally, uG+vP should have the x-coordinate equal to r\n"
   ]
  },
  {
   "cell_type": "markdown",
   "metadata": {},
   "source": [
    "### Exercise 17\n",
    "\n",
    "\n",
    "\n",
    "\n",
    "#### Make [this test](/edit/week2/ecc.py) pass: `ecc.py:S256Test:test_verify`"
   ]
  },
  {
   "cell_type": "code",
   "execution_count": null,
   "metadata": {},
   "outputs": [],
   "source": [
    "# Exercise 17\n",
    "\n",
    "reload(ecc)\n",
    "run(ecc.S256Test('test_verify'))"
   ]
  },
  {
   "cell_type": "markdown",
   "metadata": {},
   "source": [
    "### Exercise 18\n",
    "\n",
    "\n",
    "\n",
    "\n",
    "#### Make [this test](/edit/week2/ecc.py) pass: `ecc.py:PrivateKeyTest:test_sign`"
   ]
  },
  {
   "cell_type": "code",
   "execution_count": null,
   "metadata": {},
   "outputs": [],
   "source": [
    "# Exercise 18\n",
    "\n",
    "reload(ecc)\n",
    "run(ecc.PrivateKeyTest('test_sign'))"
   ]
  },
  {
   "cell_type": "markdown",
   "metadata": {},
   "source": [
    "### Exercise 19\n",
    "Verify the DER signature for the hash of \"ECDSA is awesome!\" for the given SEC pubkey\n",
    "\n",
    "`z = int.from_bytes(hash256('ECDSA is awesome!'), 'big')`\n",
    "\n",
    "Public Key in SEC Format:\n",
    "0204519fac3d910ca7e7138f7013706f619fa8f033e6ec6e09370ea38cee6a7574\n",
    "\n",
    "Signature in DER Format: 304402201f62993ee03fca342fcb45929993fa6ee885e00ddad8de154f268d98f083991402201e1ca12ad140c04e0e022c38f7ce31da426b8009d02832f0b44f39a6b178b7a1\n"
   ]
  },
  {
   "cell_type": "code",
   "execution_count": null,
   "metadata": {},
   "outputs": [],
   "source": [
    "# Exercise 19\n",
    "\n",
    "from ecc import S256Point, Signature\n",
    "from helper import hash256\n",
    "der = bytes.fromhex('304402201f62993ee03fca342fcb45929993fa6ee885e00ddad8de154f268d98f083991402201e1ca12ad140c04e0e022c38f7ce31da426b8009d02832f0b44f39a6b178b7a1')\n",
    "sec = bytes.fromhex('0204519fac3d910ca7e7138f7013706f619fa8f033e6ec6e09370ea38cee6a7574')\n",
    "# message is the hash256 of the message \"ECDSA is awesome!\"\n",
    "z = int.from_bytes(hash256(b'ECDSA is awesome!'), 'big')\n",
    "# parse the der format to get the signature\n",
    "\n",
    "# parse the sec format to get the public key\n",
    "\n",
    "# use the verify method on S256Point to validate the signature\n"
   ]
  }
 ],
 "metadata": {},
 "nbformat": 4,
 "nbformat_minor": 2
}
