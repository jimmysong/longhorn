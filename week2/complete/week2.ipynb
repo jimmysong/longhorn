{
 "cells": [
  {
   "cell_type": "code",
   "execution_count": 1,
   "metadata": {},
   "outputs": [],
   "source": [
    "############## PLEASE RUN THIS CELL FIRST! ###################\n",
    "\n",
    "# import everything and define a test runner function\n",
    "from importlib import reload\n",
    "from helper import run\n",
    "import ecc, helper"
   ]
  },
  {
   "cell_type": "code",
   "execution_count": 2,
   "metadata": {},
   "outputs": [
    {
     "name": "stdout",
     "output_type": "stream",
     "text": [
      "True\n"
     ]
    }
   ],
   "source": [
    "# Verify curve Example\n",
    "prime = 137\n",
    "x, y = 73, 128\n",
    "print(y**2 % prime == (x**3 + 7) % prime)"
   ]
  },
  {
   "cell_type": "markdown",
   "metadata": {},
   "source": [
    "### Exercise 1\n",
    "Find out which points are valid on the curve \\\\( y^2 = x^3 + 7: F_{223} \\\\)\n",
    "```\n",
    "(192,105), (17,56), (200,119), (1,193), (42,99)\n",
    "```\n"
   ]
  },
  {
   "cell_type": "code",
   "execution_count": 3,
   "metadata": {},
   "outputs": [
    {
     "name": "stdout",
     "output_type": "stream",
     "text": [
      "(192,105) is on the curve\n",
      "(17,56) is on the curve\n",
      "(200,119) is not on the curve\n",
      "(1,193) is on the curve\n",
      "(42,99) is not on the curve\n"
     ]
    }
   ],
   "source": [
    "# Exercise 1\n",
    "\n",
    "from ecc import FieldElement, Point\n",
    "prime = 223\n",
    "a = FieldElement(0, prime)\n",
    "b = FieldElement(7, prime)\n",
    "points = ((192,105), (17,56), (200,119), (1,193), (42,99))\n",
    "# iterate over points\n",
    "for x_raw, y_raw in points:\n",
    "    # Initialize points this way:\n",
    "    # x = FieldElement(x_raw, prime)\n",
    "    # y = FieldElement(y_raw, prime)\n",
    "    x = FieldElement(x_raw, prime)\n",
    "    y = FieldElement(y_raw, prime)\n",
    "    # try initializing, ValueError means not on curve\n",
    "    # p = Point(x, y, a, b)\n",
    "    # print whether it's on the curve or not\n",
    "    try:\n",
    "        p = Point(x, y, a, b)\n",
    "        print('({},{}) is on the curve'.format(x_raw, y_raw))\n",
    "    except ValueError:\n",
    "        print('({},{}) is not on the curve'.format(x_raw, y_raw))"
   ]
  },
  {
   "cell_type": "markdown",
   "metadata": {},
   "source": [
    "### Exercise 2\n",
    "\n",
    "\n",
    "\n",
    "\n",
    "#### Make [this test](/edit/week2/ecc.py) pass: `ecc.py:ECCTest:test_on_curve`"
   ]
  },
  {
   "cell_type": "code",
   "execution_count": 4,
   "metadata": {},
   "outputs": [
    {
     "name": "stderr",
     "output_type": "stream",
     "text": [
      ".\n",
      "----------------------------------------------------------------------\n",
      "Ran 1 test in 0.001s\n",
      "\n",
      "OK\n"
     ]
    }
   ],
   "source": [
    "# Exercise 2\n",
    "\n",
    "reload(ecc)\n",
    "run(ecc.ECCTest('test_on_curve'))"
   ]
  },
  {
   "cell_type": "code",
   "execution_count": 5,
   "metadata": {},
   "outputs": [
    {
     "name": "stdout",
     "output_type": "stream",
     "text": [
      "Point(99,49)_137\n"
     ]
    }
   ],
   "source": [
    "# Example where x1 != x2\n",
    "from ecc import FieldElement, Point\n",
    "prime = 137\n",
    "a = FieldElement(0, prime)\n",
    "b = FieldElement(7, prime)\n",
    "p1 = Point(FieldElement(73, prime), FieldElement(128, prime), a, b)\n",
    "p2 = Point(FieldElement(46, prime), FieldElement(22, prime), a, b)\n",
    "print(p1+p2)"
   ]
  },
  {
   "cell_type": "markdown",
   "metadata": {},
   "source": [
    "### Exercise 3\n",
    "Find the following point additions on the curve  \\\\( y^2 = x^3 + 7: F_{223} \\\\)\n",
    "```\n",
    "(192,105) + (17,56), (47,71) + (117,141), (143,98) + (76,66)\n",
    "```\n"
   ]
  },
  {
   "cell_type": "code",
   "execution_count": 6,
   "metadata": {},
   "outputs": [
    {
     "name": "stdout",
     "output_type": "stream",
     "text": [
      "Point(192,105)_223 + Point(17,56)_223 = Point(170,142)_223\n",
      "Point(47,71)_223 + Point(117,141)_223 = Point(60,139)_223\n",
      "Point(143,98)_223 + Point(76,66)_223 = Point(47,71)_223\n"
     ]
    }
   ],
   "source": [
    "# Exercise 3\n",
    "\n",
    "from ecc import FieldElement, Point\n",
    "prime = 223\n",
    "a = FieldElement(0, prime)\n",
    "b = FieldElement(7, prime)\n",
    "additions = ((192, 105, 17, 56), (47, 71, 117, 141), (143, 98, 76, 66))\n",
    "# iterate over the additions to be done\n",
    "for x1_raw, y1_raw, x2_raw, y2_raw in additions:\n",
    "   # Initialize points this way:\n",
    "   # x1 = FieldElement(x1_raw, prime)\n",
    "   # y1 = FieldElement(y1_raw, prime)\n",
    "   # p1 = Point(x1, y1, a, b)\n",
    "   # x2 = FieldElement(x2_raw, prime)\n",
    "   # y2 = FieldElement(y2_raw, prime)\n",
    "   # p2 = Point(x2, y2, a, b)\n",
    "   x1 = FieldElement(x1_raw, prime)\n",
    "   y1 = FieldElement(y1_raw, prime)\n",
    "   p1 = Point(x1, y1, a, b)\n",
    "   x2 = FieldElement(x2_raw, prime)\n",
    "   y2 = FieldElement(y2_raw, prime)\n",
    "   p2 = Point(x2, y2, a, b)\n",
    "   # print p1+p2\n",
    "   print('{} + {} = {}'.format(p1, p2, p1+p2))"
   ]
  },
  {
   "cell_type": "markdown",
   "metadata": {},
   "source": [
    "### Exercise 4\n",
    "\n",
    "\n",
    "\n",
    "\n",
    "#### Make [this test](/edit/week2/ecc.py) pass: `ecc.py:ECCTest:test_add`"
   ]
  },
  {
   "cell_type": "code",
   "execution_count": 7,
   "metadata": {},
   "outputs": [
    {
     "name": "stderr",
     "output_type": "stream",
     "text": [
      ".\n",
      "----------------------------------------------------------------------\n",
      "Ran 1 test in 0.001s\n",
      "\n",
      "OK\n"
     ]
    }
   ],
   "source": [
    "# Exercise 4\n",
    "\n",
    "reload(ecc)\n",
    "run(ecc.ECCTest('test_add'))"
   ]
  },
  {
   "cell_type": "code",
   "execution_count": 8,
   "metadata": {},
   "outputs": [
    {
     "name": "stdout",
     "output_type": "stream",
     "text": [
      "Point(103,76)_137\n"
     ]
    }
   ],
   "source": [
    "# Example where x1 == x2\n",
    "from ecc import FieldElement, Point\n",
    "prime = 137\n",
    "a = FieldElement(0, prime)\n",
    "b = FieldElement(7, prime)\n",
    "p = Point(FieldElement(73, prime), FieldElement(128, prime), a, b)\n",
    "print(p+p)"
   ]
  },
  {
   "cell_type": "markdown",
   "metadata": {},
   "source": [
    "### Exercise 5\n",
    "Find the following scalar multiplications on the curve  \\\\( y^2 = x^3 + 7: F_{223} \\\\)\n",
    "\n",
    "* 2*(192,105)\n",
    "* 2*(143,98)\n",
    "* 2*(47,71)\n",
    "* 4*(47,71)\n",
    "* 8*(47,71)\n",
    "* 21*(47,71)\n",
    "\n",
    "#### Hint: add the point to itself n times\n"
   ]
  },
  {
   "cell_type": "code",
   "execution_count": 9,
   "metadata": {},
   "outputs": [
    {
     "name": "stdout",
     "output_type": "stream",
     "text": [
      "Point(49,71)_223\n",
      "Point(64,168)_223\n",
      "Point(36,111)_223\n",
      "Point(194,51)_223\n",
      "Point(116,55)_223\n",
      "Point(infinity)\n"
     ]
    }
   ],
   "source": [
    "# Exercise 5\n",
    "\n",
    "from ecc import FieldElement, Point\n",
    "prime = 223\n",
    "a = FieldElement(0, prime)\n",
    "b = FieldElement(7, prime)\n",
    "multiplications = ((2, 192, 105), (2, 143, 98), (2, 47, 71), (4, 47, 71), (8, 47, 71), (21, 47, 71))\n",
    "# iterate over the multiplications\n",
    "for n, x_raw, y_raw in multiplications:\n",
    "    # Initialize points this way:\n",
    "    # x = FieldElement(x_raw, prime)\n",
    "    # y = FieldElement(y_raw, prime)\n",
    "    # p = Point(x, y, a, b)\n",
    "    x = FieldElement(x_raw, prime)\n",
    "    y = FieldElement(y_raw, prime)\n",
    "    p = Point(x, y, a, b)\n",
    "    # start product at 0 (point at infinity)\n",
    "    product = Point(None, None, a, b)\n",
    "    # loop over n times (n is 2, 4, 8 or 21 in the above examples)\n",
    "    for _ in range(n):\n",
    "        # add the point to the product\n",
    "        product = product + p\n",
    "    # print product\n",
    "    print(product)"
   ]
  },
  {
   "cell_type": "code",
   "execution_count": 10,
   "metadata": {},
   "outputs": [
    {
     "name": "stdout",
     "output_type": "stream",
     "text": [
      "1:Point(47,71)_223\n",
      "2:Point(36,111)_223\n",
      "3:Point(15,137)_223\n",
      "4:Point(194,51)_223\n",
      "5:Point(126,96)_223\n",
      "6:Point(139,137)_223\n",
      "7:Point(92,47)_223\n",
      "8:Point(116,55)_223\n",
      "9:Point(69,86)_223\n",
      "10:Point(154,150)_223\n",
      "11:Point(154,73)_223\n",
      "12:Point(69,137)_223\n",
      "13:Point(116,168)_223\n",
      "14:Point(92,176)_223\n",
      "15:Point(139,86)_223\n",
      "16:Point(126,127)_223\n",
      "17:Point(194,172)_223\n",
      "18:Point(15,86)_223\n",
      "19:Point(36,112)_223\n",
      "20:Point(47,152)_223\n",
      "21:Point(infinity)\n"
     ]
    }
   ],
   "source": [
    "# Group Example\n",
    "from ecc import FieldElement, Point\n",
    "prime = 223\n",
    "a = FieldElement(0, prime)\n",
    "b = FieldElement(7, prime)\n",
    "g = Point(FieldElement(47, prime), FieldElement(71, prime), a, b)\n",
    "inf = Point(None, None, a, b)\n",
    "total = g\n",
    "count = 1\n",
    "while total != inf:\n",
    "    print('{}:{}'.format(count, total))\n",
    "    total += g\n",
    "    count += 1\n",
    "print('{}:{}'.format(count, total))"
   ]
  },
  {
   "cell_type": "markdown",
   "metadata": {},
   "source": [
    "### Exercise 6\n",
    "Find out what the order of the group generated by (15, 86) is on  \\\\( y^2 = x^3 + 7: F_{223} \\\\)\n",
    "\n",
    "#### Hint: add the point to itself until you get the point at infinity\n"
   ]
  },
  {
   "cell_type": "code",
   "execution_count": 11,
   "metadata": {},
   "outputs": [
    {
     "name": "stdout",
     "output_type": "stream",
     "text": [
      "7\n"
     ]
    }
   ],
   "source": [
    "# Exercise 6\n",
    "\n",
    "from ecc import FieldElement, Point\n",
    "prime = 223\n",
    "a = FieldElement(0, prime)\n",
    "b = FieldElement(7, prime)\n",
    "x = FieldElement(15, prime)\n",
    "y = FieldElement(86, prime)\n",
    "p = Point(x, y, a, b)\n",
    "inf = Point(None, None, a, b)\n",
    "# start product at point\n",
    "product = p\n",
    "# start counter at 1\n",
    "counter = 1\n",
    "# loop until you get point at infinity (0)\n",
    "while product != inf:\n",
    "    # add the point to the product\n",
    "    product += p\n",
    "    # increment counter\n",
    "    counter += 1\n",
    "# print counter\n",
    "print(counter)"
   ]
  },
  {
   "cell_type": "markdown",
   "metadata": {},
   "source": [
    "### Exercise 7\n",
    "\n",
    "\n",
    "\n",
    "\n",
    "#### Make [this test](/edit/week2/ecc.py) pass: `ecc.py:ECCTest:test_rmul`"
   ]
  },
  {
   "cell_type": "code",
   "execution_count": 12,
   "metadata": {},
   "outputs": [
    {
     "name": "stderr",
     "output_type": "stream",
     "text": [
      ".\n",
      "----------------------------------------------------------------------\n",
      "Ran 1 test in 0.001s\n",
      "\n",
      "OK\n"
     ]
    }
   ],
   "source": [
    "# Exercise 7\n",
    "\n",
    "reload(ecc)\n",
    "run(ecc.ECCTest('test_rmul'))"
   ]
  },
  {
   "cell_type": "code",
   "execution_count": 13,
   "metadata": {},
   "outputs": [
    {
     "name": "stdout",
     "output_type": "stream",
     "text": [
      "True\n"
     ]
    }
   ],
   "source": [
    "# Confirming G is on the curve\n",
    "p = 2**256 - 2**32 - 977\n",
    "x = 0x79BE667EF9DCBBAC55A06295CE870B07029BFCDB2DCE28D959F2815B16F81798\n",
    "y = 0x483ADA7726A3C4655DA4FBFC0E1108A8FD17B448A68554199C47D08FFB10D4B8\n",
    "print(y**2 % p == (x**3 + 7) % p)"
   ]
  },
  {
   "cell_type": "code",
   "execution_count": 14,
   "metadata": {},
   "outputs": [
    {
     "name": "stdout",
     "output_type": "stream",
     "text": [
      "S256Point(infinity)\n"
     ]
    }
   ],
   "source": [
    "# Confirming order of G is n\n",
    "from ecc import G\n",
    "n = 0xFFFFFFFFFFFFFFFFFFFFFFFFFFFFFFFEBAAEDCE6AF48A03BBFD25E8CD0364141\n",
    "print(n*G)"
   ]
  },
  {
   "cell_type": "code",
   "execution_count": 15,
   "metadata": {},
   "outputs": [
    {
     "name": "stdout",
     "output_type": "stream",
     "text": [
      "S256Point(0x9680241112d370b56da22eb535745d9e314380e568229e09f7241066003bc471,0xddac2d377f03c201ffa0419d6596d10327d6c70313bb492ff495f946285d8f38)\n"
     ]
    }
   ],
   "source": [
    "# Getting the public point from a secret\n",
    "from ecc import G\n",
    "secret = 999\n",
    "point = secret*G\n",
    "print(point)"
   ]
  },
  {
   "cell_type": "markdown",
   "metadata": {},
   "source": [
    "### Exercise 8\n",
    "Get the public point where the scalar is the following:\n",
    "\n",
    "* 7\n",
    "* 1485\n",
    "* \\\\(2^{128}\\\\)\n",
    "* \\\\(2^{240}+2^{31}\\\\)\n"
   ]
  },
  {
   "cell_type": "code",
   "execution_count": 16,
   "metadata": {},
   "outputs": [
    {
     "name": "stdout",
     "output_type": "stream",
     "text": [
      "S256Point(0x5cbdf0646e5db4eaa398f365f2ea7a0e3d419b7e0330e39ce92bddedcac4f9bc,0x6aebca40ba255960a3178d6d861a54dba813d0b813fde7b5a5082628087264da)\n",
      "S256Point(0xc982196a7466fbbbb0e27a940b6af926c1a74d5ad07128c82824a11b5398afda,0x7a91f9eae64438afb9ce6448a1c133db2d8fb9254e4546b6f001637d50901f55)\n",
      "S256Point(0x8f68b9d2f63b5f339239c1ad981f162ee88c5678723ea3351b7b444c9ec4c0da,0x662a9f2dba063986de1d90c2b6be215dbbea2cfe95510bfdf23cbf79501fff82)\n",
      "S256Point(0x9577ff57c8234558f293df502ca4f09cbc65a6572c842b39b366f21717945116,0x10b49c67fa9365ad7b90dab070be339a1daf9052373ec30ffae4f72d5e66d053)\n"
     ]
    }
   ],
   "source": [
    "# Exercise 8\n",
    "\n",
    "from ecc import G\n",
    "secrets = (7, 1485, 2**128, 2**240+2**31)\n",
    "# iterate over secrets\n",
    "for secret in secrets:\n",
    "    # get the public point\n",
    "    print(secret*G)"
   ]
  },
  {
   "cell_type": "markdown",
   "metadata": {},
   "source": [
    "### Exercise 9\n",
    "\n",
    "\n",
    "\n",
    "\n",
    "#### Make [this test](/edit/week2/ecc.py) pass: `ecc.py:S256Test:test_pubpoint`"
   ]
  },
  {
   "cell_type": "code",
   "execution_count": 17,
   "metadata": {},
   "outputs": [
    {
     "name": "stderr",
     "output_type": "stream",
     "text": [
      ".\n",
      "----------------------------------------------------------------------\n",
      "Ran 1 test in 0.056s\n",
      "\n",
      "OK\n"
     ]
    }
   ],
   "source": [
    "# Exercise 9\n",
    "\n",
    "reload(ecc)\n",
    "run(ecc.S256Test('test_pubpoint'))"
   ]
  },
  {
   "cell_type": "code",
   "execution_count": 18,
   "metadata": {},
   "outputs": [
    {
     "name": "stdout",
     "output_type": "stream",
     "text": [
      "045cbdf0646e5db4eaa398f365f2ea7a0e3d419b7e0330e39ce92bddedcac4f9bc6aebca40ba255960a3178d6d861a54dba813d0b813fde7b5a5082628087264da\n",
      "025cbdf0646e5db4eaa398f365f2ea7a0e3d419b7e0330e39ce92bddedcac4f9bc\n"
     ]
    }
   ],
   "source": [
    "# SEC Example\n",
    "from ecc import S256Point\n",
    "point = S256Point(0x5CBDF0646E5DB4EAA398F365F2EA7A0E3D419B7E0330E39CE92BDDEDCAC4F9BC, 0x6AEBCA40BA255960A3178D6D861A54DBA813D0B813FDE7B5A5082628087264DA)\n",
    "uncompressed = b'\\x04' + point.x.num.to_bytes(32, 'big') + point.y.num.to_bytes(32, 'big')\n",
    "print(uncompressed.hex())\n",
    "if point.y.num % 2 == 1:\n",
    "    compressed = b'\\x03' + point.x.num.to_bytes(32, 'big')\n",
    "else:\n",
    "    compressed = b'\\x02' + point.x.num.to_bytes(32, 'big')\n",
    "print(compressed.hex())"
   ]
  },
  {
   "cell_type": "markdown",
   "metadata": {},
   "source": [
    "### Exercise 10\n",
    "Find the compressed and uncompressed SEC format for pub keys where the private keys are:\n",
    "```\n",
    "999**3, 123, 42424242\n",
    "```\n"
   ]
  },
  {
   "cell_type": "code",
   "execution_count": 19,
   "metadata": {},
   "outputs": [
    {
     "name": "stdout",
     "output_type": "stream",
     "text": [
      "049d5ca49670cbe4c3bfa84c96a8c87df086c6ea6a24ba6b809c9de234496808d56fa15cc7f3d38cda98dee2419f415b7513dde1301f8643cd9245aea7f3f911f9\n",
      "039d5ca49670cbe4c3bfa84c96a8c87df086c6ea6a24ba6b809c9de234496808d5\n",
      "04a598a8030da6d86c6bc7f2f5144ea549d28211ea58faa70ebf4c1e665c1fe9b5204b5d6f84822c307e4b4a7140737aec23fc63b65b35f86a10026dbd2d864e6b\n",
      "03a598a8030da6d86c6bc7f2f5144ea549d28211ea58faa70ebf4c1e665c1fe9b5\n",
      "04aee2e7d843f7430097859e2bc603abcc3274ff8169c1a469fee0f20614066f8e21ec53f40efac47ac1c5211b2123527e0e9b57ede790c4da1e72c91fb7da54a3\n",
      "03aee2e7d843f7430097859e2bc603abcc3274ff8169c1a469fee0f20614066f8e\n"
     ]
    }
   ],
   "source": [
    "# Exercise 10\n",
    "\n",
    "from ecc import G\n",
    "secrets = (999**3, 123, 42424242)\n",
    "# iterate through secrets\n",
    "for secret in secrets:\n",
    "    # get public point\n",
    "    point = secret * G\n",
    "    # uncompressed - b'\\x04' followed by x coord, then y coord\n",
    "    # here's how you express a coordinate in bytes: some_integer.to_bytes(32, 'big')\n",
    "    uncompressed = b'\\x04' + point.x.num.to_bytes(32, 'big') + point.y.num.to_bytes(32, 'big')\n",
    "    # compressed - b'\\x02'/b'\\x03' follewed by x coord. 02 if y is even, 03 otherwise\n",
    "    if point.y.num % 2 == 1:\n",
    "        compressed = b'\\x03' + point.x.num.to_bytes(32, 'big')\n",
    "    else:\n",
    "        compressed = b'\\x02' + point.x.num.to_bytes(32, 'big')\n",
    "    # print the .hex() of both\n",
    "    print(uncompressed.hex())\n",
    "    print(compressed.hex())"
   ]
  },
  {
   "cell_type": "markdown",
   "metadata": {},
   "source": [
    "### Exercise 11\n",
    "\n",
    "\n",
    "\n",
    "\n",
    "#### Make [this test](/edit/week2/ecc.py) pass: `ecc.py:S256Test:test_sec`"
   ]
  },
  {
   "cell_type": "code",
   "execution_count": 20,
   "metadata": {},
   "outputs": [
    {
     "name": "stderr",
     "output_type": "stream",
     "text": [
      ".\n",
      "----------------------------------------------------------------------\n",
      "Ran 1 test in 0.014s\n",
      "\n",
      "OK\n"
     ]
    }
   ],
   "source": [
    "# Exercise 11\n",
    "\n",
    "reload(ecc)\n",
    "run(ecc.S256Test('test_sec'))"
   ]
  },
  {
   "cell_type": "code",
   "execution_count": 21,
   "metadata": {},
   "outputs": [
    {
     "name": "stdout",
     "output_type": "stream",
     "text": [
      "19ZewH8Kk1PDbSNdJ97FP4EiCjTRaZMZQA\n"
     ]
    }
   ],
   "source": [
    "# Address Example\n",
    "from helper import encode_base58, hash160, hash256\n",
    "sec = bytes.fromhex('025CBDF0646E5DB4EAA398F365F2EA7A0E3D419B7E0330E39CE92BDDEDCAC4F9BC')\n",
    "h160 = hash160(sec)\n",
    "raw = b'\\x00' + h160\n",
    "raw = raw + hash256(raw)[:4]\n",
    "addr = encode_base58(raw)\n",
    "print(addr)"
   ]
  },
  {
   "cell_type": "markdown",
   "metadata": {},
   "source": [
    "### Exercise 12\n",
    "Find the mainnet and testnet addresses corresponding to the private keys:\n",
    "\n",
    "* \\\\(888^3\\\\), compressed\n",
    "* 321, uncompressed\n",
    "* 4242424242, uncompressed\n"
   ]
  },
  {
   "cell_type": "code",
   "execution_count": 22,
   "metadata": {},
   "outputs": [
    {
     "name": "stdout",
     "output_type": "stream",
     "text": [
      "148dY81A9BmdpMhvYEVznrM45kWN32vSCN\n",
      "mieaqB68xDCtbUBYFoUNcmZNwk74xcBfTP\n",
      "1S6g2xBJSED7Qr9CYZib5f4PYVhHZiVfj\n",
      "mfx3y63A7TfTtXKkv7Y6QzsPFY6QCBCXiP\n",
      "1226JSptcStqn4Yq9aAmNXdwdc2ixuH9nb\n",
      "mgY3bVusRUL6ZB2Ss999CSrGVbdRwVpM8s\n"
     ]
    }
   ],
   "source": [
    "# Exercise 12\n",
    "\n",
    "from ecc import G\n",
    "components = (\n",
    "    # (secret, compressed)\n",
    "    (888**3, True),\n",
    "    (321, False),\n",
    "    (4242424242, False),\n",
    ")\n",
    "# iterate through components\n",
    "for secret, compressed in components:\n",
    "    # get the public point\n",
    "    point = secret * G\n",
    "    # get the sec format\n",
    "    sec = point.sec(compressed)\n",
    "    # hash160 the result\n",
    "    h160 = hash160(sec)\n",
    "    # prepend b'\\x00' for mainnet b'\\x6f' for testnet\n",
    "    for prefix in (b'\\x00', b'\\x6f'):\n",
    "        # raw is the prefix + h160\n",
    "        raw = prefix + h160\n",
    "        # get the hash256 of the raw, first 4 bytes are the checksum\n",
    "        checksum = hash256(raw)[:4]\n",
    "        # append checksum\n",
    "        total = raw + checksum\n",
    "        # encode_base58 the whole thing\n",
    "        print(encode_base58(total))"
   ]
  },
  {
   "cell_type": "markdown",
   "metadata": {},
   "source": [
    "### Exercise 13\n",
    "\n",
    "\n",
    "\n",
    "\n",
    "#### Make [this test](/edit/week2/helper.py) pass: `helper.py:HelperTest:test_encode_base58_checksum`"
   ]
  },
  {
   "cell_type": "code",
   "execution_count": 23,
   "metadata": {},
   "outputs": [
    {
     "name": "stderr",
     "output_type": "stream",
     "text": [
      ".\n",
      "----------------------------------------------------------------------\n",
      "Ran 1 test in 0.001s\n",
      "\n",
      "OK\n"
     ]
    }
   ],
   "source": [
    "# Exercise 13\n",
    "\n",
    "reload(helper)\n",
    "run(helper.HelperTest('test_encode_base58_checksum'))"
   ]
  },
  {
   "cell_type": "markdown",
   "metadata": {},
   "source": [
    "### Exercise 14\n",
    "\n",
    "\n",
    "\n",
    "\n",
    "#### Make [this test](/edit/week2/ecc.py) pass: `ecc.py:S256Test:test_address`"
   ]
  },
  {
   "cell_type": "code",
   "execution_count": 24,
   "metadata": {},
   "outputs": [
    {
     "name": "stderr",
     "output_type": "stream",
     "text": [
      ".\n",
      "----------------------------------------------------------------------\n",
      "Ran 1 test in 0.016s\n",
      "\n",
      "OK\n"
     ]
    }
   ],
   "source": [
    "# Exercise 14\n",
    "\n",
    "reload(ecc)\n",
    "run(ecc.S256Test('test_address'))"
   ]
  },
  {
   "cell_type": "markdown",
   "metadata": {},
   "source": [
    "### Exercise 15\n",
    "Create a testnet address using your own secret key (use your name and email as the password if you can't think of anything). Record this secret key for tomorrow!\n"
   ]
  },
  {
   "cell_type": "code",
   "execution_count": 25,
   "metadata": {},
   "outputs": [
    {
     "name": "stdout",
     "output_type": "stream",
     "text": [
      "mseRGXB89UTFVkWJhTRTzzZ9Ujj4ZPbGK5\n"
     ]
    }
   ],
   "source": [
    "# Exercise 15\n",
    "\n",
    "from ecc import G\n",
    "from helper import hash256, little_endian_to_int\n",
    "# use a passphrase\n",
    "passphrase = b'Jimmy Song'\n",
    "secret = little_endian_to_int(hash256(passphrase))\n",
    "# get the public point\n",
    "point = secret*G\n",
    "# if you completed 7.2, just do the .address(testnet=True) method on the public point\n",
    "print(point.address(testnet=True))"
   ]
  },
  {
   "cell_type": "code",
   "execution_count": 26,
   "metadata": {},
   "outputs": [
    {
     "name": "stdout",
     "output_type": "stream",
     "text": [
      "0xcf6304e0ed625dc13713ad8b330ca764325f013fe7a3057dbe6a2053135abeb4 0xf01d6b9018ab421dd410404cb869072065522bf85734008f105cf385a023a80f 0xf10c07e197e8b0e717108d0703d874357424ece31237c864621ac7acb0b9394c\n",
      "S256Point(0x4519fac3d910ca7e7138f7013706f619fa8f033e6ec6e09370ea38cee6a7574,0x82b51eab8c27c66e26c858a079bcdf4f1ada34cec420cafc7eac1a42216fb6c4)\n"
     ]
    }
   ],
   "source": [
    "# Signing Example\n",
    "from ecc import N, G\n",
    "from helper import hash256\n",
    "secret = 1800555555518005555555\n",
    "z = int.from_bytes(hash256(b'ECDSA is awesome!'), 'big')\n",
    "k = 12345\n",
    "r = (k*G).x.num\n",
    "s = (z+r*secret) * pow(k, N-2, N) % N\n",
    "print(hex(z), hex(r), hex(s))\n",
    "print(secret*G)"
   ]
  },
  {
   "cell_type": "code",
   "execution_count": 27,
   "metadata": {},
   "outputs": [
    {
     "name": "stdout",
     "output_type": "stream",
     "text": [
      "True\n"
     ]
    }
   ],
   "source": [
    "# Verification Example\n",
    "from ecc import G, N, S256Point\n",
    "z = 0xbc62d4b80d9e36da29c16c5d4d9f11731f36052c72401a76c23c0fb5a9b74423\n",
    "r = 0x37206a0610995c58074999cb9767b87af4c4978db68c06e8e6e81d282047a7c6\n",
    "s = 0x8ca63759c1157ebeaec0d03cecca119fc9a75bf8e6d0fa65c841c8e2738cdaec\n",
    "point = S256Point(0x04519fac3d910ca7e7138f7013706f619fa8f033e6ec6e09370ea38cee6a7574,\n",
    "                  0x82b51eab8c27c66e26c858a079bcdf4f1ada34cec420cafc7eac1a42216fb6c4)\n",
    "u = z * pow(s, N-2, N) % N\n",
    "v = r * pow(s, N-2, N) % N\n",
    "print((u*G + v*point).x.num == r)"
   ]
  },
  {
   "cell_type": "markdown",
   "metadata": {},
   "source": [
    "### Exercise 16\n",
    "Which sigs are valid?\n",
    "\n",
    "```\n",
    "P = (887387e452b8eacc4acfde10d9aaf7f6d9a0f975aabb10d006e4da568744d06c,\n",
    "61de6d95231cd89026e286df3b6ae4a894a3378e393e93a0f45b666329a0ae34)\n",
    "z, r, s = ec208baa0fc1c19f708a9ca96fdeff3ac3f230bb4a7ba4aede4942ad003c0f60,\n",
    "ac8d1c87e51d0d441be8b3dd5b05c8795b48875dffe00b7ffcfac23010d3a395,\n",
    "68342ceff8935ededd102dd876ffd6ba72d6a427a3edb13d26eb0781cb423c4\n",
    "z, r, s = 7c076ff316692a3d7eb3c3bb0f8b1488cf72e1afcd929e29307032997a838a3d,\n",
    "eff69ef2b1bd93a66ed5219add4fb51e11a840f404876325a1e8ffe0529a2c,\n",
    "c7207fee197d27c618aea621406f6bf5ef6fca38681d82b2f06fddbdce6feab6\n",
    "```\n"
   ]
  },
  {
   "cell_type": "code",
   "execution_count": 28,
   "metadata": {},
   "outputs": [
    {
     "name": "stdout",
     "output_type": "stream",
     "text": [
      "True\n",
      "True\n"
     ]
    }
   ],
   "source": [
    "# Exercise 16\n",
    "\n",
    "from ecc import G, N, S256Point\n",
    "px = 0x887387e452b8eacc4acfde10d9aaf7f6d9a0f975aabb10d006e4da568744d06c\n",
    "py = 0x61de6d95231cd89026e286df3b6ae4a894a3378e393e93a0f45b666329a0ae34\n",
    "signatures = (\n",
    "    # (z, r, s)\n",
    "    (0xec208baa0fc1c19f708a9ca96fdeff3ac3f230bb4a7ba4aede4942ad003c0f60,\n",
    "     0xac8d1c87e51d0d441be8b3dd5b05c8795b48875dffe00b7ffcfac23010d3a395,\n",
    "     0x68342ceff8935ededd102dd876ffd6ba72d6a427a3edb13d26eb0781cb423c4),\n",
    "    (0x7c076ff316692a3d7eb3c3bb0f8b1488cf72e1afcd929e29307032997a838a3d,\n",
    "     0xeff69ef2b1bd93a66ed5219add4fb51e11a840f404876325a1e8ffe0529a2c,\n",
    "     0xc7207fee197d27c618aea621406f6bf5ef6fca38681d82b2f06fddbdce6feab6),\n",
    ")\n",
    "# initialize the public point\n",
    "# use: S256Point(x-coordinate, y-coordinate)\n",
    "point = S256Point(px, py)\n",
    "# iterate over signatures\n",
    "for z, r, s in signatures:\n",
    "    # u = z / s, v = r / s\n",
    "    u = z * pow(s, N-2, N) % N\n",
    "    v = r * pow(s, N-2, N) % N\n",
    "    # finally, uG+vP should have the x-coordinate equal to r\n",
    "    print((u*G+v*point).x.num == r)"
   ]
  },
  {
   "cell_type": "markdown",
   "metadata": {},
   "source": [
    "### Exercise 17\n",
    "\n",
    "\n",
    "\n",
    "\n",
    "#### Make [this test](/edit/week2/ecc.py) pass: `ecc.py:S256Test:test_verify`"
   ]
  },
  {
   "cell_type": "code",
   "execution_count": 29,
   "metadata": {},
   "outputs": [
    {
     "name": "stderr",
     "output_type": "stream",
     "text": [
      ".\n",
      "----------------------------------------------------------------------\n",
      "Ran 1 test in 0.207s\n",
      "\n",
      "OK\n"
     ]
    }
   ],
   "source": [
    "# Exercise 17\n",
    "\n",
    "reload(ecc)\n",
    "run(ecc.S256Test('test_verify'))"
   ]
  },
  {
   "cell_type": "markdown",
   "metadata": {},
   "source": [
    "### Exercise 18\n",
    "\n",
    "\n",
    "\n",
    "\n",
    "#### Make [this test](/edit/week2/ecc.py) pass: `ecc.py:PrivateKeyTest:test_sign`"
   ]
  },
  {
   "cell_type": "code",
   "execution_count": 30,
   "metadata": {},
   "outputs": [
    {
     "name": "stderr",
     "output_type": "stream",
     "text": [
      ".\n",
      "----------------------------------------------------------------------\n",
      "Ran 1 test in 0.201s\n",
      "\n",
      "OK\n"
     ]
    }
   ],
   "source": [
    "# Exercise 18\n",
    "\n",
    "reload(ecc)\n",
    "run(ecc.PrivateKeyTest('test_sign'))"
   ]
  },
  {
   "cell_type": "markdown",
   "metadata": {},
   "source": [
    "### Exercise 19\n",
    "Verify the DER signature for the hash of \"ECDSA is awesome!\" for the given SEC pubkey\n",
    "\n",
    "`z = int.from_bytes(hash256('ECDSA is awesome!'), 'big')`\n",
    "\n",
    "Public Key in SEC Format:\n",
    "0204519fac3d910ca7e7138f7013706f619fa8f033e6ec6e09370ea38cee6a7574\n",
    "\n",
    "Signature in DER Format: 304402201f62993ee03fca342fcb45929993fa6ee885e00ddad8de154f268d98f083991402201e1ca12ad140c04e0e022c38f7ce31da426b8009d02832f0b44f39a6b178b7a1\n"
   ]
  },
  {
   "cell_type": "code",
   "execution_count": 31,
   "metadata": {},
   "outputs": [
    {
     "name": "stdout",
     "output_type": "stream",
     "text": [
      "True\n"
     ]
    }
   ],
   "source": [
    "# Exercise 19\n",
    "\n",
    "from ecc import S256Point, Signature\n",
    "from helper import hash256\n",
    "der = bytes.fromhex('304402201f62993ee03fca342fcb45929993fa6ee885e00ddad8de154f268d98f083991402201e1ca12ad140c04e0e022c38f7ce31da426b8009d02832f0b44f39a6b178b7a1')\n",
    "sec = bytes.fromhex('0204519fac3d910ca7e7138f7013706f619fa8f033e6ec6e09370ea38cee6a7574')\n",
    "# message is the hash256 of the message \"ECDSA is awesome!\"\n",
    "z = int.from_bytes(hash256(b'ECDSA is awesome!'), 'big')\n",
    "# parse the der format to get the signature\n",
    "sig = Signature.parse(der)\n",
    "# parse the sec format to get the public key\n",
    "point = S256Point.parse(sec)\n",
    "# use the verify method on S256Point to validate the signature\n",
    "print(point.verify(z, sig))"
   ]
  }
 ],
 "metadata": {
  "kernelspec": {
   "display_name": "Python 3",
   "language": "python",
   "name": "python3"
  },
  "language_info": {
   "codemirror_mode": {
    "name": "ipython",
    "version": 3
   },
   "file_extension": ".py",
   "mimetype": "text/x-python",
   "name": "python",
   "nbconvert_exporter": "python",
   "pygments_lexer": "ipython3",
   "version": "3.6.7"
  }
 },
 "nbformat": 4,
 "nbformat_minor": 2
}
