{
 "cells": [
  {
   "cell_type": "code",
   "execution_count": 1,
   "metadata": {},
   "outputs": [],
   "source": [
    "############## PLEASE RUN THIS CELL FIRST! ###################\n",
    "\n",
    "# import everything and define a test runner function\n",
    "from importlib import reload\n",
    "from helper import run\n",
    "import bloomfilter, network"
   ]
  },
  {
   "cell_type": "code",
   "execution_count": 2,
   "metadata": {},
   "outputs": [
    {
     "name": "stdout",
     "output_type": "stream",
     "text": [
      "[0, 0, 0, 0, 0, 0, 0, 0, 0, 1]\n"
     ]
    }
   ],
   "source": [
    "# Example Bloom Filter\n",
    "from helper import hash256\n",
    "bit_field_size = 10\n",
    "bit_field = [0] * bit_field_size\n",
    "h256 = hash256(b'hello world')\n",
    "bit = int.from_bytes(h256, 'big') % bit_field_size\n",
    "bit_field[bit] = 1\n",
    "print(bit_field)"
   ]
  },
  {
   "cell_type": "code",
   "execution_count": 3,
   "metadata": {},
   "outputs": [
    {
     "name": "stdout",
     "output_type": "stream",
     "text": [
      "[0, 0, 1, 0, 0, 0, 0, 0, 0, 1]\n"
     ]
    }
   ],
   "source": [
    "# Example Bloom Filter 2\n",
    "from helper import hash256\n",
    "bit_field_size = 10\n",
    "bit_field = [0] * bit_field_size\n",
    "h = hash256(b'hello world')\n",
    "bit = int.from_bytes(h, 'big') % bit_field_size\n",
    "bit_field[bit] = 1\n",
    "h = hash256(b'goodbye')\n",
    "bit = int.from_bytes(h, 'big') % bit_field_size\n",
    "bit_field[bit] = 1\n",
    "print(bit_field)"
   ]
  },
  {
   "cell_type": "code",
   "execution_count": 4,
   "metadata": {},
   "outputs": [
    {
     "name": "stdout",
     "output_type": "stream",
     "text": [
      "[1, 1, 1, 0, 0, 0, 0, 0, 0, 1]\n"
     ]
    }
   ],
   "source": [
    "# Example Bloom Filter 3\n",
    "from helper import hash160, hash256\n",
    "bit_field_size = 10\n",
    "bit_field = [0] * bit_field_size\n",
    "phrase1 = b'hello world'\n",
    "h1 = hash256(phrase1)\n",
    "bit1 = int.from_bytes(h1, 'big') % bit_field_size\n",
    "bit_field[bit1] = 1\n",
    "h2 = hash160(phrase1)\n",
    "bit2 = int.from_bytes(h2, 'big') % bit_field_size\n",
    "bit_field[bit2] = 1\n",
    "phrase2 = b'goodbye'\n",
    "h1 = hash256(phrase2)\n",
    "bit1 = int.from_bytes(h1, 'big') % bit_field_size\n",
    "bit_field[bit1] = 1\n",
    "h2 = hash160(phrase2)\n",
    "bit2 = int.from_bytes(h2, 'big') % bit_field_size\n",
    "bit_field[bit2] = 1\n",
    "print(bit_field)"
   ]
  },
  {
   "cell_type": "code",
   "execution_count": 5,
   "metadata": {},
   "outputs": [
    {
     "name": "stdout",
     "output_type": "stream",
     "text": [
      "[0, 0, 0, 0, 0, 1, 1, 0, 0, 1, 1, 0, 0, 0, 0, 0]\n"
     ]
    }
   ],
   "source": [
    "# Example BIP0037 Bloom Filter\n",
    "from helper import murmur3\n",
    "from bloomfilter import BIP37_CONSTANT\n",
    "field_size = 2\n",
    "num_functions = 2\n",
    "tweak = 42\n",
    "bit_field_size = field_size * 8\n",
    "bit_field = [0] * bit_field_size\n",
    "for phrase in (b'hello world', b'goodbye'):\n",
    "    for i in range(num_functions):\n",
    "        seed = i * BIP37_CONSTANT + tweak\n",
    "        h = murmur3(phrase, seed=seed)\n",
    "        bit = h % bit_field_size\n",
    "        bit_field[bit] = 1\n",
    "print(bit_field)"
   ]
  },
  {
   "cell_type": "markdown",
   "metadata": {},
   "source": [
    "### Exercise 1\n",
    "Given a Bloom Filter with these parameters: size=10, function count=5, tweak=99, which bits are set after adding these items?\n",
    "\n",
    "* `b'Hello World'`\n",
    "* `b'Goodbye!'`\n"
   ]
  },
  {
   "cell_type": "code",
   "execution_count": 6,
   "metadata": {},
   "outputs": [
    {
     "name": "stdout",
     "output_type": "stream",
     "text": [
      "4000600a080000010940\n"
     ]
    }
   ],
   "source": [
    "# Exercise 1\n",
    "\n",
    "from bloomfilter import BIP37_CONSTANT\n",
    "from helper import murmur3, bit_field_to_bytes\n",
    "field_size = 10\n",
    "function_count = 5\n",
    "tweak = 99\n",
    "items = (b'Hello World',  b'Goodbye!')\n",
    "# bit_field_size is 8 * field_size\n",
    "bit_field_size = field_size * 8\n",
    "# create a bit field with the appropriate size\n",
    "bit_field = [0] * bit_field_size\n",
    "# for each item you want to add to the filter\n",
    "for item in items:\n",
    "    # iterate function_count number of times\n",
    "    for i in range(function_count):\n",
    "        # BIP0037 spec seed is i*BIP37_CONSTANT + tweak\n",
    "        seed = i * BIP37_CONSTANT + tweak\n",
    "        # get the murmur3 hash given that seed\n",
    "        h = murmur3(item, seed=seed)\n",
    "        # set the bit to be h mod the bit_field_size\n",
    "        bit = h % bit_field_size\n",
    "        # set the bit_field at the index bit to be 1\n",
    "        bit_field[bit] = 1\n",
    "# print the bit field converted to bytes using bit_field_to_bytes in hex\n",
    "print(bit_field_to_bytes(bit_field).hex())"
   ]
  },
  {
   "cell_type": "markdown",
   "metadata": {},
   "source": [
    "### Exercise 2\n",
    "\n",
    "\n",
    "\n",
    "\n",
    "#### Make [this test](/edit/week7/bloomfilter.py) pass: `bloomfilter.py:BloomFilterTest:test_add`"
   ]
  },
  {
   "cell_type": "code",
   "execution_count": 7,
   "metadata": {},
   "outputs": [
    {
     "name": "stderr",
     "output_type": "stream",
     "text": [
      ".\n",
      "----------------------------------------------------------------------\n",
      "Ran 1 test in 0.001s\n",
      "\n",
      "OK\n"
     ]
    }
   ],
   "source": [
    "# Exercise 2\n",
    "\n",
    "reload(bloomfilter)\n",
    "run(bloomfilter.BloomFilterTest('test_add'))"
   ]
  },
  {
   "cell_type": "markdown",
   "metadata": {},
   "source": [
    "### Exercise 3\n",
    "\n",
    "\n",
    "\n",
    "\n",
    "#### Make [this test](/edit/week7/bloomfilter.py) pass: `bloomfilter.py:BloomFilterTest:test_filterload`"
   ]
  },
  {
   "cell_type": "code",
   "execution_count": 8,
   "metadata": {},
   "outputs": [
    {
     "name": "stderr",
     "output_type": "stream",
     "text": [
      ".\n",
      "----------------------------------------------------------------------\n",
      "Ran 1 test in 0.001s\n",
      "\n",
      "OK\n"
     ]
    }
   ],
   "source": [
    "# Exercise 3\n",
    "\n",
    "reload(bloomfilter)\n",
    "run(bloomfilter.BloomFilterTest('test_filterload'))"
   ]
  },
  {
   "cell_type": "markdown",
   "metadata": {},
   "source": [
    "### Exercise 4\n",
    "Do the following:\n",
    "\n",
    "* Connect to a testnet node\n",
    "* Load a filter for your testnet address\n",
    "* Send a request for transactions from the block which had your previous testnet transaction\n",
    "* Receive the merkleblock and tx messages.\n"
   ]
  },
  {
   "cell_type": "code",
   "execution_count": 9,
   "metadata": {},
   "outputs": [
    {
     "name": "stdout",
     "output_type": "stream",
     "text": [
      "mseRGXB89UTFVkWJhTRTzzZ9Ujj4ZPbGK5\n",
      "0100000001ca4683960a9c21c0fb6b1d284fc5fe86509c773adf912eee4692859304ce0fb0000000006a47304402200d4c054deca1e76347bd336fbc6bc0132aa2e4a2aafc0792c8a1aa23ec6ed1af0220720444626b807f7c77a89aad4bb0a78ae9c5d9adea296e8e22e66a1681393b480121031dbe3aff7b9ad64e2612b8b15e9f5e4a3130663a526df91abfb7b1bd16de5d6effffffff0280969800000000001976a914850af0029eb376691c3eef244c25eceb4e50c50388acefece184000000001976a9146e13971913b9aa89659a9f53d327baa8826f2d7588ac00000000\n"
     ]
    }
   ],
   "source": [
    "# Exercise 4\n",
    "\n",
    "from bloomfilter import BloomFilter\n",
    "from ecc import PrivateKey\n",
    "from helper import decode_base58, hash256, little_endian_to_int\n",
    "from merkleblock import MerkleBlock\n",
    "from network import SimpleNode, GetDataMessage, FILTERED_BLOCK_DATA_TYPE\n",
    "from tx import Tx\n",
    "block_hash = bytes.fromhex('00000000000129fc37fde810db09f033014e501595f8560dcdb2e86756986ee3')\n",
    "passphrase = b'Jimmy Song'\n",
    "secret = little_endian_to_int(hash256(passphrase))\n",
    "private_key = PrivateKey(secret=secret)\n",
    "addr = private_key.point.address(testnet=True)\n",
    "print(addr)\n",
    "filter_size = 30\n",
    "filter_num_functions = 5\n",
    "filter_tweak = 90210\n",
    "# get the hash160 of the address using decode_base58\n",
    "h160 = decode_base58(addr)\n",
    "# create a bloom filter using the filter_size, filter_num_functions and filter_tweak above\n",
    "bf = BloomFilter(filter_size, filter_num_functions, filter_tweak)\n",
    "# add the h160 to the bloom filter\n",
    "bf.add(h160)\n",
    "# connect to tbtc.programmingblockchain.com in testnet mode\n",
    "node = SimpleNode('tbtc.programmingblockchain.com', testnet=True)\n",
    "# complete the handshake\n",
    "node.handshake()\n",
    "# send the filterload message\n",
    "node.send(bf.filterload())\n",
    "# create a getdata message\n",
    "getdata = GetDataMessage()\n",
    "# use the add_data method of GetDataMessage with the parameters\n",
    "# (FILTERED_BLOCK_DATA_TYPE, block_hash) to request the block\n",
    "getdata.add_data(FILTERED_BLOCK_DATA_TYPE, block_hash)\n",
    "# send the GetDataMessage\n",
    "node.send(getdata)\n",
    "# wait for the merkleblock command\n",
    "mb = node.wait_for(MerkleBlock)\n",
    "# check that the merkle block's hash is the same as the block hash\n",
    "if mb.hash() != block_hash:\n",
    "    raise RuntimeError('Wrong Merkle Block')\n",
    "# check that the merkle block is valid\n",
    "if not mb.is_valid():\n",
    "    raise RuntimeError('Invalid Merkle Block')\n",
    "# loop through the tx hashes we are expecting using proved_txs\n",
    "for tx_hash in mb.proved_txs():\n",
    "    # wait for the tx command\n",
    "    tx_obj = node.wait_for(Tx)\n",
    "    # check that the tx hash is the same\n",
    "    if tx_obj.hash() != tx_hash:\n",
    "        raise RuntimeError('Wrong transaction')\n",
    "    # print the transaction serialization in hex\n",
    "    print(tx_obj.serialize().hex())"
   ]
  },
  {
   "cell_type": "markdown",
   "metadata": {},
   "source": [
    "### Exercise 5\n",
    "\n",
    "\n",
    "\n",
    "\n",
    "#### Make [this test](/edit/week7/network.py) pass: `network.py:SimpleNodeTest:test_get_filtered_txs`"
   ]
  },
  {
   "cell_type": "code",
   "execution_count": 10,
   "metadata": {},
   "outputs": [
    {
     "name": "stderr",
     "output_type": "stream",
     "text": [
      ".\n",
      "----------------------------------------------------------------------\n",
      "Ran 1 test in 0.167s\n",
      "\n",
      "OK\n"
     ]
    }
   ],
   "source": [
    "# Exercise 5\n",
    "\n",
    "reload(network)\n",
    "run(network.SimpleNodeTest('test_get_filtered_txs'))"
   ]
  }
 ],
 "metadata": {
  "kernelspec": {
   "display_name": "Python 3",
   "language": "python",
   "name": "python3"
  },
  "language_info": {
   "codemirror_mode": {
    "name": "ipython",
    "version": 3
   },
   "file_extension": ".py",
   "mimetype": "text/x-python",
   "name": "python",
   "nbconvert_exporter": "python",
   "pygments_lexer": "ipython3",
   "version": "3.6.7"
  }
 },
 "nbformat": 4,
 "nbformat_minor": 2
}
