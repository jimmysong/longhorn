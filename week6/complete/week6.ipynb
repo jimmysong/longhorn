{
 "cells": [
  {
   "cell_type": "code",
   "execution_count": 1,
   "metadata": {},
   "outputs": [],
   "source": [
    "############## PLEASE RUN THIS CELL FIRST! ###################\n",
    "\n",
    "# import everything and define a test runner function\n",
    "from importlib import reload\n",
    "from helper import run\n",
    "import block, helper, network"
   ]
  },
  {
   "cell_type": "markdown",
   "metadata": {},
   "source": [
    "### Exercise 1\n",
    "Parse this message\n",
    "```\n",
    "f9beb4d976657261636b000000000000000000005df6e0e2\n",
    "```\n"
   ]
  },
  {
   "cell_type": "code",
   "execution_count": 2,
   "metadata": {},
   "outputs": [
    {
     "name": "stdout",
     "output_type": "stream",
     "text": [
      "b'verack\\x00\\x00\\x00\\x00\\x00\\x00'\n"
     ]
    }
   ],
   "source": [
    "# Exercise 1\n",
    "\n",
    "msg = bytes.fromhex('f9beb4d976657261636b000000000000000000005df6e0e2')\n",
    "# first 4 are network magic\n",
    "magic = msg[:4]\n",
    "# next 12 are command\n",
    "command = msg[4:16]\n",
    "# next 4 are payload length\n",
    "payload_length = msg[16:20]\n",
    "# next 4 are checksum\n",
    "checksum = msg[20:24]\n",
    "# rest is payload\n",
    "payload = msg[24:]\n",
    "# print the command\n",
    "print(command)"
   ]
  },
  {
   "cell_type": "markdown",
   "metadata": {},
   "source": [
    "### Exercise 2\n",
    "\n",
    "\n",
    "\n",
    "\n",
    "#### Make [this test](/edit/week6/network.py) pass: `network.py:NetworkEnvelopeTest:test_parse`"
   ]
  },
  {
   "cell_type": "code",
   "execution_count": 3,
   "metadata": {},
   "outputs": [
    {
     "name": "stderr",
     "output_type": "stream",
     "text": [
      ".\n",
      "----------------------------------------------------------------------\n",
      "Ran 1 test in 0.001s\n",
      "\n",
      "OK\n"
     ]
    }
   ],
   "source": [
    "# Exercise 2\n",
    "\n",
    "reload(network)\n",
    "run(network.NetworkEnvelopeTest('test_parse'))"
   ]
  },
  {
   "cell_type": "markdown",
   "metadata": {},
   "source": [
    "### Exercise 3\n",
    "\n",
    "\n",
    "\n",
    "\n",
    "#### Make [this test](/edit/week6/network.py) pass: `network.py:NetworkEnvelopeTest:test_serialize`"
   ]
  },
  {
   "cell_type": "code",
   "execution_count": 4,
   "metadata": {},
   "outputs": [
    {
     "name": "stderr",
     "output_type": "stream",
     "text": [
      ".\n",
      "----------------------------------------------------------------------\n",
      "Ran 1 test in 0.001s\n",
      "\n",
      "OK\n"
     ]
    }
   ],
   "source": [
    "# Exercise 3\n",
    "\n",
    "reload(network)\n",
    "run(network.NetworkEnvelopeTest('test_serialize'))"
   ]
  },
  {
   "cell_type": "markdown",
   "metadata": {},
   "source": [
    "### Exercise 4\n",
    "\n",
    "\n",
    "\n",
    "\n",
    "#### Make [this test](/edit/week6/network.py) pass: `network.py:GetHeadersMessageTest:test_serialize`"
   ]
  },
  {
   "cell_type": "code",
   "execution_count": 5,
   "metadata": {},
   "outputs": [
    {
     "name": "stderr",
     "output_type": "stream",
     "text": [
      ".\n",
      "----------------------------------------------------------------------\n",
      "Ran 1 test in 0.001s\n",
      "\n",
      "OK\n"
     ]
    }
   ],
   "source": [
    "# Exercise 4\n",
    "\n",
    "reload(network)\n",
    "run(network.GetHeadersMessageTest('test_serialize'))"
   ]
  },
  {
   "cell_type": "markdown",
   "metadata": {},
   "source": [
    "### Exercise 5\n",
    "\n",
    "\n",
    "\n",
    "\n",
    "#### Make [this test](/edit/week6/network.py) pass: `network.py:HeadersMessageTest:test_parse`"
   ]
  },
  {
   "cell_type": "code",
   "execution_count": 6,
   "metadata": {},
   "outputs": [
    {
     "name": "stderr",
     "output_type": "stream",
     "text": [
      ".\n",
      "----------------------------------------------------------------------\n",
      "Ran 1 test in 0.001s\n",
      "\n",
      "OK\n"
     ]
    }
   ],
   "source": [
    "# Exercise 5\n",
    "\n",
    "reload(network)\n",
    "run(network.HeadersMessageTest('test_parse'))"
   ]
  },
  {
   "cell_type": "code",
   "execution_count": 7,
   "metadata": {},
   "outputs": [
    {
     "name": "stdout",
     "output_type": "stream",
     "text": [
      "b'verack'\n"
     ]
    }
   ],
   "source": [
    "# Handshake Example\n",
    "from network import SimpleNode, VersionMessage, VerAckMessage\n",
    "node = SimpleNode('tbtc.programmingblockchain.com', testnet=True)\n",
    "version = VersionMessage()\n",
    "node.send(version)\n",
    "print(node.wait_for(VerAckMessage).command)"
   ]
  },
  {
   "cell_type": "markdown",
   "metadata": {},
   "source": [
    "### Exercise 6\n",
    "\n",
    "\n",
    "\n",
    "\n",
    "#### Make [this test](/edit/week6/network.py) pass: `network.py:SimpleNodeTest:test_handshake`"
   ]
  },
  {
   "cell_type": "code",
   "execution_count": 8,
   "metadata": {},
   "outputs": [
    {
     "name": "stderr",
     "output_type": "stream",
     "text": [
      ".\n",
      "----------------------------------------------------------------------\n",
      "Ran 1 test in 0.087s\n",
      "\n",
      "OK\n"
     ]
    }
   ],
   "source": [
    "# Exercise 6\n",
    "\n",
    "reload(network)\n",
    "run(network.SimpleNodeTest('test_handshake'))"
   ]
  },
  {
   "cell_type": "code",
   "execution_count": 9,
   "metadata": {},
   "outputs": [
    {
     "name": "stdout",
     "output_type": "stream",
     "text": [
      "00000000a141216a896c54f211301c436e557a8d55900637bbdce14c6c7bddef\n",
      "00000000ca4b69045a03d7b20624def97a5366418648d5005e82fd3b345d20d0\n",
      "000000004c63907577f6beb84a97af137738c2342de8ee7872c0cd4df1dcb213\n",
      "000000001c1eae2f038485775bad4d77500698b069259f98900d9f6ab646b92c\n",
      "0000000012ee5cd7ab160c09b83754c095fef94ccead459dbc45184a56154053\n",
      "0000000083f8b6d4f1d818b7e8771e1505cb9fd2259702257ea409afa5ff63e0\n",
      "00000000a29242d3931efe2c21b6318f24cbf79df7d97eb7bd8076593fe0d2c4\n",
      "00000000112c2a0b4d83fdd2b153b82235d50e088bdd86ce36fb3d1928ff2552\n",
      "00000000b91ca39c169b3fabc9f7b99058a6a1edf09ecd6d7c52d62ee99b01fe\n",
      "000000000f1aef56190aee63d33a373e6487132d522ff4cd98ccfc96566d461e\n",
      "000000001897323d6feb2358a313ab11b2b6e033fe5b1e86e8f30ad0a1701de0\n",
      "0000000049195c8e3e5d13bb807cf2170cdf30abef7263cb245b21b49cf46df2\n",
      "00000000b9c449d7272fa6ca3f8d028e1ac02381129bfcdc0a1f4e67c6d007cc\n",
      "000000008a89868a8f27c33e46b78752ed92763b9d45ae8791e0f9cb5acdd97c\n",
      "000000000fa8bfa0f0dd32f956b874b2c7f1772c5fbedcb1b35e03335c7fb0a8\n",
      "000000004f2886a170adb7204cb0c7a824217dd24d11a74423d564c4e0904967\n",
      "000000002732d387256b57cabdcb17767e3d30e220ea73f844b1907c0b5919ea\n",
      "0000000040514b192e6ca247d83388bf11cb1d5e980610ae2c6324cbb0594b32\n",
      "0000000015bb50096055846954f7120e30d6aa2bd5ab8d4a4055ceacc853328a\n"
     ]
    }
   ],
   "source": [
    "# Block Header Download Example\n",
    "from network import GetHeadersMessage, HeadersMessage, SimpleNode\n",
    "from block import GENESIS_BLOCK_HASH\n",
    "node = SimpleNode('btc.programmingblockchain.com', testnet=False)\n",
    "node.handshake()\n",
    "last_block_hash = GENESIS_BLOCK_HASH\n",
    "current_height = 1\n",
    "for _ in range(20):\n",
    "    getheaders = GetHeadersMessage(start_block=last_block_hash)\n",
    "    node.send(getheaders)\n",
    "    headers = node.wait_for(HeadersMessage)\n",
    "    for header in headers.headers:\n",
    "        if not header.check_pow():\n",
    "            raise RuntimeError('bad proof of work at block {}'.format(count))\n",
    "        if last_block_hash != GENESIS_BLOCK_HASH and header.prev_block != last_block_hash:\n",
    "            raise RuntimeError('discontinuous block at {}'.format(count))\n",
    "        if current_height % 2016 == 0:\n",
    "            print(header.id())\n",
    "        current_height += 1\n",
    "        last_block_hash = header.hash()"
   ]
  },
  {
   "cell_type": "markdown",
   "metadata": {},
   "source": [
    "### Exercise 7\n",
    "Download the first 40,000 blocks for testnet and validate them.\n"
   ]
  },
  {
   "cell_type": "code",
   "execution_count": 10,
   "metadata": {},
   "outputs": [
    {
     "name": "stdout",
     "output_type": "stream",
     "text": [
      "0000000089d757fd95d79f7fcc2bc25ca7fc16492dca9aa610730ea05d9d3de9\n",
      "000000001af3b22a7598b10574deb6b3e2d596f36d62b0a49cb89a1f99ab81eb\n",
      "000000000be66197ad285aedd52e56036f28d595fe281858bc5d562173d4d6de\n",
      "00000000118da1e2165a19307b86f87eba814845e8a0f99734dce279ca3fb029\n",
      "000000007c4fc01a14af8067762fb807144b1b59cd4ec79ffc61efae3439757d\n",
      "0000000000e5d282a44a897650367ebccc890f8550263e64487a34612975bd7c\n",
      "000000000e92deb9fc5350ecce48cd26561d3707f6acc5474889ce34a2faf0a7\n",
      "00000000161a4a693fd5d5964bb48a732e230273e88489e0e85fae1294e63699\n",
      "000000000becf05ed9a5093f553f03a85f24a831fa9f1ffcca9a5a5066fef020\n",
      "000000001cf5440e7c9ae69f655759b17a32aad141896defd55bb895b7cfc44e\n",
      "0000000060662a5ca0b2aa015afe39299fa4e281c4c71a58cb816f5732cfabc1\n",
      "00000000005da26890c97ecfca4d51974b42338f1b0b4b299c9a3158d8b06e4e\n",
      "0000000003665532235284c300585ffd9e0d44a16a66ed06351c1d06801322b2\n",
      "0000000011b9447373685d9ee78e17d2e0be2701e589aa787c7702dd9299e807\n",
      "0000000002d3cd050eb30bd369bcd5a7098f5c4a88f93c031e3bf06d8b58b9e1\n",
      "0000000000162a3da1229fc058b904bde0e28ab1fad489f8805df2561b854727\n",
      "0000000000a206c0ee4c1e42badc056f97692ee3909ffd5416e3362b2c1ea465\n",
      "00000000015a8d54db1b04dbb13eaed7b8c0b7a82c107a1e8a388b296a84529d\n",
      "00000000015bb4069249fa1f41ae61d8a7447aaacc33c50dacd3c3654377fa43\n"
     ]
    }
   ],
   "source": [
    "# Exercise 7\n",
    "\n",
    "from network import SimpleNode, GetHeadersMessage, HeadersMessage\n",
    "from block import TESTNET_GENESIS_BLOCK_HASH\n",
    "# connect to tbtc.programmingblockchain.com\n",
    "node = SimpleNode('tbtc.programmingblockchain.com', testnet=True)\n",
    "# handshake\n",
    "node.handshake()\n",
    "# set the last block hash to the TESTNET_GENESIS_BLOCK_HASH\n",
    "last_block_hash = TESTNET_GENESIS_BLOCK_HASH\n",
    "# set the current height to 1\n",
    "current_height = 1\n",
    "# loop until we we get 40,000 blocks\n",
    "while current_height < 40000:\n",
    "    # create a GetHeadersMessage starting from the last block we have\n",
    "    getheaders = GetHeadersMessage(start_block=last_block_hash)\n",
    "    # send the getheaders message\n",
    "    node.send(getheaders)\n",
    "    # wait for the HeadersMessage in response\n",
    "    headers = node.wait_for(HeadersMessage)\n",
    "    # loop through the headers from the headers message\n",
    "    for header in headers.headers:\n",
    "        # check the proof of work\n",
    "        if not header.check_pow():\n",
    "            raise RuntimeError('bad proof of work at block {}'.format(count))\n",
    "        # the prev_block of the current block should be the last block\n",
    "        if last_block_hash != TESTNET_GENESIS_BLOCK_HASH and header.prev_block != last_block_hash:\n",
    "            raise RuntimeError('discontinuous block at {}'.format(count))\n",
    "        # print the id every 2016 blocks (difficulty adjustment)\n",
    "        if current_height % 2016 == 0:\n",
    "            print(header.id())\n",
    "        # increment the block count\n",
    "        current_height += 1\n",
    "        # set the last block hash\n",
    "        last_block_hash = header.hash()"
   ]
  },
  {
   "cell_type": "code",
   "execution_count": 11,
   "metadata": {},
   "outputs": [
    {
     "name": "stdout",
     "output_type": "stream",
     "text": [
      "8b30c5ba100f6f2e5ad1e2a742e5020491240f8eb514fe97c713c31718ad7ecd\n"
     ]
    }
   ],
   "source": [
    "# Merkle Parent Example\n",
    "from helper import hash256\n",
    "tx_hash0 = bytes.fromhex('c117ea8ec828342f4dfb0ad6bd140e03a50720ece40169ee38bdc15d9eb64cf5')\n",
    "tx_hash1 = bytes.fromhex('c131474164b412e3406696da1ee20ab0fc9bf41c8f05fa8ceea7a08d672d7cc5')\n",
    "parent = hash256(tx_hash0+tx_hash1)\n",
    "print(parent.hex())"
   ]
  },
  {
   "cell_type": "markdown",
   "metadata": {},
   "source": [
    "### Exercise 8\n",
    "Calculate the Merkle parent of these hashes:\n",
    "```\n",
    "f391da6ecfeed1814efae39e7fcb3838ae0b02c02ae7d0a5848a66947c0727b0\n",
    "3d238a92a94532b946c90e19c49351c763696cff3db400485b813aecb8a13181\n",
    "```\n"
   ]
  },
  {
   "cell_type": "code",
   "execution_count": 12,
   "metadata": {},
   "outputs": [
    {
     "name": "stdout",
     "output_type": "stream",
     "text": [
      "7f4e6f9e224e20fda0ae4c44114237f97cd35aca38d83081c9bfd41feb907800\n"
     ]
    }
   ],
   "source": [
    "# Exercise 8\n",
    "\n",
    "from helper import hash256\n",
    "hex_hash1 = 'f391da6ecfeed1814efae39e7fcb3838ae0b02c02ae7d0a5848a66947c0727b0'\n",
    "hex_hash2 = '3d238a92a94532b946c90e19c49351c763696cff3db400485b813aecb8a13181'\n",
    "# bytes.fromhex to get the bin hashes\n",
    "hash1 = bytes.fromhex(hex_hash1)\n",
    "hash2 = bytes.fromhex(hex_hash2)\n",
    "# hash256 the combination\n",
    "parent = hash256(hash1+hash2)\n",
    "# hex() to see the result\n",
    "print(parent.hex())"
   ]
  },
  {
   "cell_type": "markdown",
   "metadata": {},
   "source": [
    "### Exercise 9\n",
    "\n",
    "\n",
    "\n",
    "\n",
    "#### Make [this test](/edit/week6/helper.py) pass: `helper.py:HelperTest:test_merkle_parent`"
   ]
  },
  {
   "cell_type": "code",
   "execution_count": 13,
   "metadata": {},
   "outputs": [
    {
     "name": "stderr",
     "output_type": "stream",
     "text": [
      ".\n",
      "----------------------------------------------------------------------\n",
      "Ran 1 test in 0.001s\n",
      "\n",
      "OK\n"
     ]
    }
   ],
   "source": [
    "# Exercise 9\n",
    "\n",
    "reload(helper)\n",
    "run(helper.HelperTest('test_merkle_parent'))"
   ]
  },
  {
   "cell_type": "code",
   "execution_count": 14,
   "metadata": {},
   "outputs": [
    {
     "name": "stdout",
     "output_type": "stream",
     "text": [
      "8b30c5ba100f6f2e5ad1e2a742e5020491240f8eb514fe97c713c31718ad7ecd\n",
      "7f4e6f9e224e20fda0ae4c44114237f97cd35aca38d83081c9bfd41feb907800\n",
      "3ecf6115380c77e8aae56660f5634982ee897351ba906a6837d15ebc3a225df0\n"
     ]
    }
   ],
   "source": [
    "# Merkle Parent Level Example\n",
    "from helper import merkle_parent\n",
    "hex_hashes = [\n",
    "    'c117ea8ec828342f4dfb0ad6bd140e03a50720ece40169ee38bdc15d9eb64cf5',\n",
    "    'c131474164b412e3406696da1ee20ab0fc9bf41c8f05fa8ceea7a08d672d7cc5',\n",
    "    'f391da6ecfeed1814efae39e7fcb3838ae0b02c02ae7d0a5848a66947c0727b0',\n",
    "    '3d238a92a94532b946c90e19c49351c763696cff3db400485b813aecb8a13181',\n",
    "    '10092f2633be5f3ce349bf9ddbde36caa3dd10dfa0ec8106bce23acbff637dae',\n",
    "]\n",
    "hashes = [bytes.fromhex(x) for x in hex_hashes]\n",
    "if len(hashes) % 2 == 1:\n",
    "    hashes.append(hashes[-1])\n",
    "parent_level = []\n",
    "for i in range(0, len(hex_hashes), 2):\n",
    "    parent = merkle_parent(hashes[i], hashes[i+1])\n",
    "    print(parent.hex())\n",
    "    parent_level.append(parent)"
   ]
  },
  {
   "cell_type": "markdown",
   "metadata": {},
   "source": [
    "### Exercise 10\n",
    "Calculate the next Merkle Parent Level given these hashes\n",
    "```\n",
    "8b30c5ba100f6f2e5ad1e2a742e5020491240f8eb514fe97c713c31718ad7ecd\n",
    "7f4e6f9e224e20fda0ae4c44114237f97cd35aca38d83081c9bfd41feb907800\n",
    "ade48f2bbb57318cc79f3a8678febaa827599c509dce5940602e54c7733332e7\n",
    "68b3e2ab8182dfd646f13fdf01c335cf32476482d963f5cd94e934e6b3401069\n",
    "43e7274e77fbe8e5a42a8fb58f7decdb04d521f319f332d88e6b06f8e6c09e27\n",
    "```\n"
   ]
  },
  {
   "cell_type": "code",
   "execution_count": 15,
   "metadata": {},
   "outputs": [
    {
     "name": "stdout",
     "output_type": "stream",
     "text": [
      "26906cb2caeb03626102f7606ea332784281d5d20e2b4839fbb3dbb37262dbc1\n",
      "717a0d17538ff5ad2c020bab38bdcde66e63f3daef88f89095f344918d5d4f96\n",
      "d6c56a5281021a587f5a1e0dd4674bff012c69d960136d96e6d72261d5b696ae\n"
     ]
    }
   ],
   "source": [
    "# Exercise 10\n",
    "\n",
    "from helper import merkle_parent\n",
    "hex_hashes = [\n",
    "    '8b30c5ba100f6f2e5ad1e2a742e5020491240f8eb514fe97c713c31718ad7ecd',\n",
    "    '7f4e6f9e224e20fda0ae4c44114237f97cd35aca38d83081c9bfd41feb907800',\n",
    "    'ade48f2bbb57318cc79f3a8678febaa827599c509dce5940602e54c7733332e7',\n",
    "    '68b3e2ab8182dfd646f13fdf01c335cf32476482d963f5cd94e934e6b3401069',\n",
    "    '43e7274e77fbe8e5a42a8fb58f7decdb04d521f319f332d88e6b06f8e6c09e27',\n",
    "]\n",
    "# bytes.fromhex to get all the hashes in binary\n",
    "hashes = [bytes.fromhex(h) for h in hex_hashes]\n",
    "# if the number of hashes is odd, duplicate the last one\n",
    "if len(hashes) % 2 == 1:\n",
    "    hashes.append(hashes[-1])\n",
    "# initialize parent level\n",
    "parent_level = []\n",
    "# skip by two: use range(0, len(hashes), 2)\n",
    "for i in range(0, len(hashes), 2):\n",
    "    # calculate merkle_parent of i and i+1 hashes\n",
    "    parent = merkle_parent(hashes[i], hashes[i+1])\n",
    "    # print the hash's hex\n",
    "    print(parent.hex())\n",
    "    # add parent to parent level\n",
    "    parent_level.append(parent)"
   ]
  },
  {
   "cell_type": "markdown",
   "metadata": {},
   "source": [
    "### Exercise 11\n",
    "\n",
    "\n",
    "\n",
    "\n",
    "#### Make [this test](/edit/week6/helper.py) pass: `helper.py:HelperTest:test_merkle_parent_level`"
   ]
  },
  {
   "cell_type": "code",
   "execution_count": 16,
   "metadata": {},
   "outputs": [
    {
     "name": "stderr",
     "output_type": "stream",
     "text": [
      ".\n",
      "----------------------------------------------------------------------\n",
      "Ran 1 test in 0.001s\n",
      "\n",
      "OK\n"
     ]
    }
   ],
   "source": [
    "# Exercise 11\n",
    "\n",
    "reload(helper)\n",
    "run(helper.HelperTest('test_merkle_parent_level'))"
   ]
  },
  {
   "cell_type": "code",
   "execution_count": 17,
   "metadata": {},
   "outputs": [
    {
     "name": "stdout",
     "output_type": "stream",
     "text": [
      "acbcab8bcc1af95d8d563b77d24c3d19b18f1486383d75a5085c4e86c86beed6\n"
     ]
    }
   ],
   "source": [
    "# Merkle Root Example\n",
    "from helper import merkle_parent_level\n",
    "hex_hashes = [\n",
    "    'c117ea8ec828342f4dfb0ad6bd140e03a50720ece40169ee38bdc15d9eb64cf5',\n",
    "    'c131474164b412e3406696da1ee20ab0fc9bf41c8f05fa8ceea7a08d672d7cc5',\n",
    "    'f391da6ecfeed1814efae39e7fcb3838ae0b02c02ae7d0a5848a66947c0727b0',\n",
    "    '3d238a92a94532b946c90e19c49351c763696cff3db400485b813aecb8a13181',\n",
    "    '10092f2633be5f3ce349bf9ddbde36caa3dd10dfa0ec8106bce23acbff637dae',\n",
    "    '7d37b3d54fa6a64869084bfd2e831309118b9e833610e6228adacdbd1b4ba161',\n",
    "    '8118a77e542892fe15ae3fc771a4abfd2f5d5d5997544c3487ac36b5c85170fc',\n",
    "    'dff6879848c2c9b62fe652720b8df5272093acfaa45a43cdb3696fe2466a3877',\n",
    "    'b825c0745f46ac58f7d3759e6dc535a1fec7820377f24d4c2c6ad2cc55c0cb59',\n",
    "    '95513952a04bd8992721e9b7e2937f1c04ba31e0469fbe615a78197f68f52b7c',\n",
    "    '2e6d722e5e4dbdf2447ddecc9f7dabb8e299bae921c99ad5b0184cd9eb8e5908',\n",
    "    'b13a750047bc0bdceb2473e5fe488c2596d7a7124b4e716fdd29b046ef99bbf0',\n",
    "]\n",
    "current_level = [bytes.fromhex(x) for x in hex_hashes]\n",
    "while len(current_level) > 1:\n",
    "    current_level = merkle_parent_level(current_level)\n",
    "print(current_level[0].hex())"
   ]
  },
  {
   "cell_type": "markdown",
   "metadata": {},
   "source": [
    "### Exercise 12\n",
    "Calculate the Merkle Root given these hashes\n",
    "```\n",
    "42f6f52f17620653dcc909e58bb352e0bd4bd1381e2955d19c00959a22122b2e\n",
    "94c3af34b9667bf787e1c6a0a009201589755d01d02fe2877cc69b929d2418d4\n",
    "959428d7c48113cb9149d0566bde3d46e98cf028053c522b8fa8f735241aa953\n",
    "a9f27b99d5d108dede755710d4a1ffa2c74af70b4ca71726fa57d68454e609a2\n",
    "62af110031e29de1efcad103b3ad4bec7bdcf6cb9c9f4afdd586981795516577\n",
    "766900590ece194667e9da2984018057512887110bf54fe0aa800157aec796ba\n",
    "e8270fb475763bc8d855cfe45ed98060988c1bdcad2ffc8364f783c98999a208\n",
    "921b8cfd3e14bf41f028f0a3aa88c813d5039a2b1bceb12208535b0b43a5d09e\n",
    "15535864799652347cec66cba473f6d8291541238e58b2e03b046bc53cfe1321\n",
    "1c8af7c502971e67096456eac9cd5407aacf62190fc54188995666a30faf99f0\n",
    "3311f8acc57e8a3e9b68e2945fb4f53c07b0fa4668a7e5cda6255c21558c774d\n",
    "```\n"
   ]
  },
  {
   "cell_type": "code",
   "execution_count": 18,
   "metadata": {},
   "outputs": [
    {
     "name": "stdout",
     "output_type": "stream",
     "text": [
      "a67772634e542799333c6c98bc903e36b652918a8d8a9e069391c55b4276c8a1\n"
     ]
    }
   ],
   "source": [
    "# Exercise 12\n",
    "\n",
    "from helper import merkle_parent_level\n",
    "hex_hashes = [\n",
    "    '42f6f52f17620653dcc909e58bb352e0bd4bd1381e2955d19c00959a22122b2e',\n",
    "    '94c3af34b9667bf787e1c6a0a009201589755d01d02fe2877cc69b929d2418d4',\n",
    "    '959428d7c48113cb9149d0566bde3d46e98cf028053c522b8fa8f735241aa953',\n",
    "    'a9f27b99d5d108dede755710d4a1ffa2c74af70b4ca71726fa57d68454e609a2',\n",
    "    '62af110031e29de1efcad103b3ad4bec7bdcf6cb9c9f4afdd586981795516577',\n",
    "    '766900590ece194667e9da2984018057512887110bf54fe0aa800157aec796ba',\n",
    "    'e8270fb475763bc8d855cfe45ed98060988c1bdcad2ffc8364f783c98999a208',\n",
    "    '921b8cfd3e14bf41f028f0a3aa88c813d5039a2b1bceb12208535b0b43a5d09e',\n",
    "    '15535864799652347cec66cba473f6d8291541238e58b2e03b046bc53cfe1321',\n",
    "    '1c8af7c502971e67096456eac9cd5407aacf62190fc54188995666a30faf99f0',\n",
    "    '3311f8acc57e8a3e9b68e2945fb4f53c07b0fa4668a7e5cda6255c21558c774d',\n",
    "]\n",
    "# bytes.fromhex to get all the hashes in binary\n",
    "hashes = [bytes.fromhex(h) for h in hex_hashes]\n",
    "# initialize current level to be the hashes\n",
    "current_level = hashes\n",
    "# loop until current_level has only 1 element\n",
    "while len(current_level) > 1:\n",
    "    # make the current level the parent level\n",
    "    current_level = merkle_parent_level(current_level)\n",
    "# print the root's hex\n",
    "print(current_level[0].hex())"
   ]
  },
  {
   "cell_type": "markdown",
   "metadata": {},
   "source": [
    "### Exercise 13\n",
    "\n",
    "\n",
    "\n",
    "\n",
    "#### Make [this test](/edit/week6/helper.py) pass: `helper.py:HelperTest:test_merkle_root`"
   ]
  },
  {
   "cell_type": "code",
   "execution_count": 19,
   "metadata": {},
   "outputs": [
    {
     "name": "stderr",
     "output_type": "stream",
     "text": [
      ".\n",
      "----------------------------------------------------------------------\n",
      "Ran 1 test in 0.001s\n",
      "\n",
      "OK\n"
     ]
    }
   ],
   "source": [
    "# Exercise 13\n",
    "\n",
    "reload(helper)\n",
    "run(helper.HelperTest('test_merkle_root'))"
   ]
  },
  {
   "cell_type": "code",
   "execution_count": 20,
   "metadata": {},
   "outputs": [
    {
     "name": "stdout",
     "output_type": "stream",
     "text": [
      "654d6181e18e4ac4368383fdc5eead11bf138f9b7ac1e15334e4411b3c4797d9\n"
     ]
    }
   ],
   "source": [
    "# Block Merkle Root Example\n",
    "from helper import merkle_root\n",
    "tx_hex_hashes = [\n",
    "    '42f6f52f17620653dcc909e58bb352e0bd4bd1381e2955d19c00959a22122b2e',\n",
    "    '94c3af34b9667bf787e1c6a0a009201589755d01d02fe2877cc69b929d2418d4',\n",
    "    '959428d7c48113cb9149d0566bde3d46e98cf028053c522b8fa8f735241aa953',\n",
    "    'a9f27b99d5d108dede755710d4a1ffa2c74af70b4ca71726fa57d68454e609a2',\n",
    "    '62af110031e29de1efcad103b3ad4bec7bdcf6cb9c9f4afdd586981795516577',\n",
    "    '766900590ece194667e9da2984018057512887110bf54fe0aa800157aec796ba',\n",
    "    'e8270fb475763bc8d855cfe45ed98060988c1bdcad2ffc8364f783c98999a208',\n",
    "]\n",
    "current_level = [bytes.fromhex(x)[::-1] for x in tx_hex_hashes]\n",
    "print(merkle_root(current_level)[::-1].hex())"
   ]
  },
  {
   "cell_type": "markdown",
   "metadata": {},
   "source": [
    "### Exercise 14\n",
    "Validate the merkle root for this block on Testnet:\n",
    "Block Hash:\n",
    "```\n",
    "0000000000000451fa80fcdb243b84c35eaae215a85a8faa880559e8239e6f20\n",
    "```\n",
    "\n",
    "Transaction Hashes:\n",
    "```\n",
    "42f6f52f17620653dcc909e58bb352e0bd4bd1381e2955d19c00959a22122b2e\n",
    "94c3af34b9667bf787e1c6a0a009201589755d01d02fe2877cc69b929d2418d4\n",
    "959428d7c48113cb9149d0566bde3d46e98cf028053c522b8fa8f735241aa953\n",
    "a9f27b99d5d108dede755710d4a1ffa2c74af70b4ca71726fa57d68454e609a2\n",
    "62af110031e29de1efcad103b3ad4bec7bdcf6cb9c9f4afdd586981795516577\n",
    "766900590ece194667e9da2984018057512887110bf54fe0aa800157aec796ba\n",
    "e8270fb475763bc8d855cfe45ed98060988c1bdcad2ffc8364f783c98999a208\n",
    "921b8cfd3e14bf41f028f0a3aa88c813d5039a2b1bceb12208535b0b43a5d09e\n",
    "15535864799652347cec66cba473f6d8291541238e58b2e03b046bc53cfe1321\n",
    "1c8af7c502971e67096456eac9cd5407aacf62190fc54188995666a30faf99f0\n",
    "3311f8acc57e8a3e9b68e2945fb4f53c07b0fa4668a7e5cda6255c21558c774d\n",
    "```\n"
   ]
  },
  {
   "cell_type": "code",
   "execution_count": 21,
   "metadata": {},
   "outputs": [
    {
     "name": "stdout",
     "output_type": "stream",
     "text": [
      "True\n"
     ]
    }
   ],
   "source": [
    "# Exercise 14\n",
    "\n",
    "from helper import merkle_root\n",
    "want = '4297fb95a0168b959d1469410c7527da5d6243d99699e7d041b7f3916ba93301'\n",
    "tx_hex_hashes = [\n",
    "    '42f6f52f17620653dcc909e58bb352e0bd4bd1381e2955d19c00959a22122b2e',\n",
    "    '94c3af34b9667bf787e1c6a0a009201589755d01d02fe2877cc69b929d2418d4',\n",
    "    '959428d7c48113cb9149d0566bde3d46e98cf028053c522b8fa8f735241aa953',\n",
    "    'a9f27b99d5d108dede755710d4a1ffa2c74af70b4ca71726fa57d68454e609a2',\n",
    "    '62af110031e29de1efcad103b3ad4bec7bdcf6cb9c9f4afdd586981795516577',\n",
    "    '766900590ece194667e9da2984018057512887110bf54fe0aa800157aec796ba',\n",
    "    'e8270fb475763bc8d855cfe45ed98060988c1bdcad2ffc8364f783c98999a208',\n",
    "    '921b8cfd3e14bf41f028f0a3aa88c813d5039a2b1bceb12208535b0b43a5d09e',\n",
    "    '15535864799652347cec66cba473f6d8291541238e58b2e03b046bc53cfe1321',\n",
    "    '1c8af7c502971e67096456eac9cd5407aacf62190fc54188995666a30faf99f0',\n",
    "    '3311f8acc57e8a3e9b68e2945fb4f53c07b0fa4668a7e5cda6255c21558c774d',\n",
    "]\n",
    "# bytes.fromhex and reverse ([::-1]) to get all the hashes in binary\n",
    "hashes = [bytes.fromhex(h)[::-1] for h in tx_hex_hashes]\n",
    "# get the merkle root\n",
    "root = merkle_root(hashes)\n",
    "# see if the reversed root is the same as the wanted root\n",
    "print(root[::-1].hex() == want)"
   ]
  },
  {
   "cell_type": "markdown",
   "metadata": {},
   "source": [
    "### Exercise 15\n",
    "\n",
    "\n",
    "\n",
    "\n",
    "#### Make [this test](/edit/week6/block.py) pass: `block.py:BlockTest:test_validate_merkle_root`"
   ]
  },
  {
   "cell_type": "code",
   "execution_count": 22,
   "metadata": {},
   "outputs": [
    {
     "name": "stderr",
     "output_type": "stream",
     "text": [
      ".\n",
      "----------------------------------------------------------------------\n",
      "Ran 1 test in 0.001s\n",
      "\n",
      "OK\n"
     ]
    }
   ],
   "source": [
    "# Exercise 15\n",
    "\n",
    "reload(block)\n",
    "run(block.BlockTest('test_validate_merkle_root'))"
   ]
  },
  {
   "cell_type": "markdown",
   "metadata": {},
   "source": [
    "### Exercise 16\n",
    "Validate the merkle root for this block on Testnet via network protocol:\n",
    "Block Hash:\n",
    "```\n",
    "0000000000044b01a9440b34f582fe171c7b8642fedd0ebfccf8fdf6a1810900\n",
    "```\n"
   ]
  },
  {
   "cell_type": "code",
   "execution_count": 23,
   "metadata": {},
   "outputs": [
    {
     "name": "stdout",
     "output_type": "stream",
     "text": [
      "627bf8053bd767ad72c6afcd2d91638311f9c7520905a634be13aa8853f7a446\n"
     ]
    }
   ],
   "source": [
    "# Exercise 16\n",
    "\n",
    "from network import SimpleNode, GetDataMessage, BLOCK_DATA_TYPE\n",
    "from block import Block\n",
    "block_hex = '0000000000044b01a9440b34f582fe171c7b8642fedd0ebfccf8fdf6a1810900'\n",
    "block_hash = bytes.fromhex(block_hex)\n",
    "# connect to tbtc.programmingblockchain.com on testnet\n",
    "node = SimpleNode('tbtc.programmingblockchain.com', testnet=True)\n",
    "# handshake\n",
    "node.handshake()\n",
    "# create a GetDataMessage\n",
    "getdata = GetDataMessage()\n",
    "# add_data on the message (BLOCK_DATA_TYPE, block_hash)\n",
    "getdata.add_data(BLOCK_DATA_TYPE, block_hash)\n",
    "# send the getdata message\n",
    "node.send(getdata)\n",
    "# wait for the block message in response\n",
    "b = node.wait_for(Block)\n",
    "# check the proof of work\n",
    "if not b.check_pow():\n",
    "    raise RuntimeError('bad proof of work')\n",
    "# validate the tx_hashes\n",
    "if not b.validate_merkle_root():\n",
    "    raise RuntimeError('bad merkle root')\n",
    "# print the merkle root hex\n",
    "print(b.merkle_root.hex())"
   ]
  },
  {
   "cell_type": "code",
   "execution_count": 24,
   "metadata": {},
   "outputs": [
    {
     "name": "stdout",
     "output_type": "stream",
     "text": [
      "[None]\n",
      "[None, None]\n",
      "[None, None, None, None]\n",
      "[None, None, None, None, None, None, None, None]\n",
      "[None, None, None, None, None, None, None, None, None, None, None, None, None, None, None, None]\n"
     ]
    }
   ],
   "source": [
    "# Merkle Tree Example\n",
    "from math import ceil, log\n",
    "total = 16\n",
    "max_depth = ceil(log(total, 2))\n",
    "merkle_tree = []\n",
    "for depth in range(max_depth + 1):\n",
    "    num_items = ceil(total / 2**(max_depth - depth))\n",
    "    level_hashes = [None] * num_items\n",
    "    merkle_tree.append(level_hashes)\n",
    "for level in merkle_tree:\n",
    "    print(level)"
   ]
  },
  {
   "cell_type": "code",
   "execution_count": 25,
   "metadata": {},
   "outputs": [
    {
     "name": "stdout",
     "output_type": "stream",
     "text": [
      "*597c4baf.*\n",
      "6382df3f..., 87cf8fa3...\n",
      "3ba6c080..., 8e894862..., 7ab01bb6..., 3df760ac...\n",
      "272945ec..., 9a38d037..., 4a64abd9..., ec7c95e1..., 3b67006c..., 850683df..., d40d268b..., 8636b7a3...\n",
      "9745f717..., 5573c8ed..., 82a02ecb..., 507ccae5..., a7a4aec2..., bb626766..., ea6d7ac1..., 45774386..., 76880292..., b1ae7f15..., 9b74f89f..., b3a92b5b..., b5c0b915..., c9d52c5c..., c555bc5f..., f9dbfafc...\n"
     ]
    }
   ],
   "source": [
    "# Merkle Tree Populating and Navigating Example\n",
    "from merkleblock import MerkleTree\n",
    "hex_hashes = [\n",
    "    \"9745f7173ef14ee4155722d1cbf13304339fd00d900b759c6f9d58579b5765fb\",\n",
    "    \"5573c8ede34936c29cdfdfe743f7f5fdfbd4f54ba0705259e62f39917065cb9b\",\n",
    "    \"82a02ecbb6623b4274dfcab82b336dc017a27136e08521091e443e62582e8f05\",\n",
    "    \"507ccae5ed9b340363a0e6d765af148be9cb1c8766ccc922f83e4ae681658308\",\n",
    "    \"a7a4aec28e7162e1e9ef33dfa30f0bc0526e6cf4b11a576f6c5de58593898330\",\n",
    "    \"bb6267664bd833fd9fc82582853ab144fece26b7a8a5bf328f8a059445b59add\",\n",
    "    \"ea6d7ac1ee77fbacee58fc717b990c4fcccf1b19af43103c090f601677fd8836\",\n",
    "    \"457743861de496c429912558a106b810b0507975a49773228aa788df40730d41\",\n",
    "    \"7688029288efc9e9a0011c960a6ed9e5466581abf3e3a6c26ee317461add619a\",\n",
    "    \"b1ae7f15836cb2286cdd4e2c37bf9bb7da0a2846d06867a429f654b2e7f383c9\",\n",
    "    \"9b74f89fa3f93e71ff2c241f32945d877281a6a50a6bf94adac002980aafe5ab\",\n",
    "    \"b3a92b5b255019bdaf754875633c2de9fec2ab03e6b8ce669d07cb5b18804638\",\n",
    "    \"b5c0b915312b9bdaedd2b86aa2d0f8feffc73a2d37668fd9010179261e25e263\",\n",
    "    \"c9d52c5cb1e557b92c84c52e7c4bfbce859408bedffc8a5560fd6e35e10b8800\",\n",
    "    \"c555bc5fc3bc096df0a0c9532f07640bfb76bfe4fc1ace214b8b228a1297a4c2\",\n",
    "    \"f9dbfafc3af3400954975da24eb325e326960a25b87fffe23eef3e7ed2fb610e\",\n",
    "]\n",
    "tree = MerkleTree(len(hex_hashes))\n",
    "tree.nodes[4] = [bytes.fromhex(h) for h in hex_hashes]\n",
    "tree.nodes[3] = merkle_parent_level(tree.nodes[4])\n",
    "tree.nodes[2] = merkle_parent_level(tree.nodes[3])\n",
    "tree.nodes[1] = merkle_parent_level(tree.nodes[2])\n",
    "tree.nodes[0] = merkle_parent_level(tree.nodes[1])\n",
    "print(tree)"
   ]
  },
  {
   "cell_type": "code",
   "execution_count": 26,
   "metadata": {},
   "outputs": [
    {
     "name": "stdout",
     "output_type": "stream",
     "text": [
      "597c4baf...\n",
      "6382df3f..., 87cf8fa3...\n",
      "3ba6c080..., 8e894862..., 7ab01bb6..., 3df760ac...\n",
      "272945ec..., 9a38d037..., 4a64abd9..., ec7c95e1..., 3b67006c..., 850683df..., d40d268b..., 8636b7a3...\n",
      "9745f717..., 5573c8ed..., 82a02ecb..., 507ccae5..., a7a4aec2..., bb626766..., ea6d7ac1..., 45774386..., 76880292..., b1ae7f15..., 9b74f89f..., b3a92b5b..., b5c0b915..., c9d52c5c..., c555bc5f..., f9dbfafc...\n"
     ]
    }
   ],
   "source": [
    "# Merkle Tree Populating Example #2\n",
    "from merkleblock import MerkleTree\n",
    "hex_hashes = [\n",
    "    \"9745f7173ef14ee4155722d1cbf13304339fd00d900b759c6f9d58579b5765fb\",\n",
    "    \"5573c8ede34936c29cdfdfe743f7f5fdfbd4f54ba0705259e62f39917065cb9b\",\n",
    "    \"82a02ecbb6623b4274dfcab82b336dc017a27136e08521091e443e62582e8f05\",\n",
    "    \"507ccae5ed9b340363a0e6d765af148be9cb1c8766ccc922f83e4ae681658308\",\n",
    "    \"a7a4aec28e7162e1e9ef33dfa30f0bc0526e6cf4b11a576f6c5de58593898330\",\n",
    "    \"bb6267664bd833fd9fc82582853ab144fece26b7a8a5bf328f8a059445b59add\",\n",
    "    \"ea6d7ac1ee77fbacee58fc717b990c4fcccf1b19af43103c090f601677fd8836\",\n",
    "    \"457743861de496c429912558a106b810b0507975a49773228aa788df40730d41\",\n",
    "    \"7688029288efc9e9a0011c960a6ed9e5466581abf3e3a6c26ee317461add619a\",\n",
    "    \"b1ae7f15836cb2286cdd4e2c37bf9bb7da0a2846d06867a429f654b2e7f383c9\",\n",
    "    \"9b74f89fa3f93e71ff2c241f32945d877281a6a50a6bf94adac002980aafe5ab\",\n",
    "    \"b3a92b5b255019bdaf754875633c2de9fec2ab03e6b8ce669d07cb5b18804638\",\n",
    "    \"b5c0b915312b9bdaedd2b86aa2d0f8feffc73a2d37668fd9010179261e25e263\",\n",
    "    \"c9d52c5cb1e557b92c84c52e7c4bfbce859408bedffc8a5560fd6e35e10b8800\",\n",
    "    \"c555bc5fc3bc096df0a0c9532f07640bfb76bfe4fc1ace214b8b228a1297a4c2\",\n",
    "    \"f9dbfafc3af3400954975da24eb325e326960a25b87fffe23eef3e7ed2fb610e\",\n",
    "]\n",
    "tree = MerkleTree(len(hex_hashes))\n",
    "tree.nodes[4] = [bytes.fromhex(h) for h in hex_hashes]\n",
    "while tree.root() is None:\n",
    "    if tree.is_leaf():\n",
    "        tree.up()\n",
    "    else:\n",
    "        left_hash = tree.get_left_node()\n",
    "        right_hash = tree.get_right_node()\n",
    "        if left_hash is None:\n",
    "            tree.left()\n",
    "        elif right_hash is None:\n",
    "            tree.right()\n",
    "        else:\n",
    "            tree.set_current_node(merkle_parent(left_hash, right_hash))\n",
    "            tree.up()\n",
    "print(tree)"
   ]
  },
  {
   "cell_type": "code",
   "execution_count": 27,
   "metadata": {},
   "outputs": [
    {
     "name": "stdout",
     "output_type": "stream",
     "text": [
      "dc87b7e3...\n",
      "6382df3f..., 6440941e...\n",
      "3ba6c080..., 8e894862..., 7ab01bb6..., 996be980...\n",
      "272945ec..., 9a38d037..., 4a64abd9..., ec7c95e1..., 3b67006c..., 850683df..., d40d268b..., f542a085...\n",
      "9745f717..., 5573c8ed..., 82a02ecb..., 507ccae5..., a7a4aec2..., bb626766..., ea6d7ac1..., 45774386..., 76880292..., b1ae7f15..., 9b74f89f..., b3a92b5b..., b5c0b915..., c9d52c5c..., c555bc5f...\n"
     ]
    }
   ],
   "source": [
    "# Merkle Tree Populating Example #3\n",
    "from merkleblock import MerkleTree\n",
    "hex_hashes = [\n",
    "    \"9745f7173ef14ee4155722d1cbf13304339fd00d900b759c6f9d58579b5765fb\",\n",
    "    \"5573c8ede34936c29cdfdfe743f7f5fdfbd4f54ba0705259e62f39917065cb9b\",\n",
    "    \"82a02ecbb6623b4274dfcab82b336dc017a27136e08521091e443e62582e8f05\",\n",
    "    \"507ccae5ed9b340363a0e6d765af148be9cb1c8766ccc922f83e4ae681658308\",\n",
    "    \"a7a4aec28e7162e1e9ef33dfa30f0bc0526e6cf4b11a576f6c5de58593898330\",\n",
    "    \"bb6267664bd833fd9fc82582853ab144fece26b7a8a5bf328f8a059445b59add\",\n",
    "    \"ea6d7ac1ee77fbacee58fc717b990c4fcccf1b19af43103c090f601677fd8836\",\n",
    "    \"457743861de496c429912558a106b810b0507975a49773228aa788df40730d41\",\n",
    "    \"7688029288efc9e9a0011c960a6ed9e5466581abf3e3a6c26ee317461add619a\",\n",
    "    \"b1ae7f15836cb2286cdd4e2c37bf9bb7da0a2846d06867a429f654b2e7f383c9\",\n",
    "    \"9b74f89fa3f93e71ff2c241f32945d877281a6a50a6bf94adac002980aafe5ab\",\n",
    "    \"b3a92b5b255019bdaf754875633c2de9fec2ab03e6b8ce669d07cb5b18804638\",\n",
    "    \"b5c0b915312b9bdaedd2b86aa2d0f8feffc73a2d37668fd9010179261e25e263\",\n",
    "    \"c9d52c5cb1e557b92c84c52e7c4bfbce859408bedffc8a5560fd6e35e10b8800\",\n",
    "    \"c555bc5fc3bc096df0a0c9532f07640bfb76bfe4fc1ace214b8b228a1297a4c2\",\n",
    "]\n",
    "tree = MerkleTree(len(hex_hashes))\n",
    "tree.nodes[4] = [bytes.fromhex(h) for h in hex_hashes]\n",
    "while tree.root() is None:\n",
    "    if tree.is_leaf():\n",
    "        tree.up()\n",
    "    else:\n",
    "        left_hash = tree.get_left_node()\n",
    "        if left_hash is None:\n",
    "            tree.left()\n",
    "        elif tree.right_exists():\n",
    "            right_hash = tree.get_right_node()\n",
    "            if right_hash is None:\n",
    "                tree.right()\n",
    "            else:\n",
    "                tree.set_current_node(merkle_parent(left_hash, right_hash))\n",
    "                tree.up()\n",
    "        else:\n",
    "            tree.set_current_node(merkle_parent(left_hash, left_hash))\n",
    "            tree.up()\n",
    "print(tree)"
   ]
  }
 ],
 "metadata": {
  "kernelspec": {
   "display_name": "Python 3",
   "language": "python",
   "name": "python3"
  },
  "language_info": {
   "codemirror_mode": {
    "name": "ipython",
    "version": 3
   },
   "file_extension": ".py",
   "mimetype": "text/x-python",
   "name": "python",
   "nbconvert_exporter": "python",
   "pygments_lexer": "ipython3",
   "version": "3.6.7"
  }
 },
 "nbformat": 4,
 "nbformat_minor": 2
}
